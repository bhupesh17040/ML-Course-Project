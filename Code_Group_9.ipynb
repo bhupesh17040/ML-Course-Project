{
  "nbformat": 4,
  "nbformat_minor": 0,
  "metadata": {
    "colab": {
      "name": "Code Group 9.ipynb",
      "provenance": [],
      "collapsed_sections": [],
      "include_colab_link": true
    },
    "kernelspec": {
      "name": "python3",
      "display_name": "Python 3"
    },
    "accelerator": "GPU"
  },
  "cells": [
    {
      "cell_type": "markdown",
      "metadata": {
        "id": "view-in-github",
        "colab_type": "text"
      },
      "source": [
        "<a href=\"https://colab.research.google.com/github/bhupesh17040/ML-Course-Project/blob/master/Code_Group_9.ipynb\" target=\"_parent\"><img src=\"https://colab.research.google.com/assets/colab-badge.svg\" alt=\"Open In Colab\"/></a>"
      ]
    },
    {
      "cell_type": "code",
      "metadata": {
        "id": "7WZKVxwJgOX6",
        "colab_type": "code",
        "outputId": "d6f0e340-5689-4e14-bf19-b907411a7831",
        "colab": {
          "base_uri": "https://localhost:8080/",
          "height": 121
        }
      },
      "source": [
        "from google.colab import drive\n",
        "drive.mount('/content/drive')\n"
      ],
      "execution_count": 0,
      "outputs": [
        {
          "output_type": "stream",
          "text": [
            "Go to this URL in a browser: https://accounts.google.com/o/oauth2/auth?client_id=947318989803-6bn6qk8qdgf4n4g3pfee6491hc0brc4i.apps.googleusercontent.com&redirect_uri=urn%3aietf%3awg%3aoauth%3a2.0%3aoob&response_type=code&scope=email%20https%3a%2f%2fwww.googleapis.com%2fauth%2fdocs.test%20https%3a%2f%2fwww.googleapis.com%2fauth%2fdrive%20https%3a%2f%2fwww.googleapis.com%2fauth%2fdrive.photos.readonly%20https%3a%2f%2fwww.googleapis.com%2fauth%2fpeopleapi.readonly\n",
            "\n",
            "Enter your authorization code:\n",
            "··········\n",
            "Mounted at /content/drive\n"
          ],
          "name": "stdout"
        }
      ]
    },
    {
      "cell_type": "code",
      "metadata": {
        "id": "W2aFk8Pn6Elb",
        "colab_type": "code",
        "colab": {}
      },
      "source": [
        ""
      ],
      "execution_count": 0,
      "outputs": []
    },
    {
      "cell_type": "markdown",
      "metadata": {
        "id": "aGv9XAIsjs2B",
        "colab_type": "text"
      },
      "source": [
        ""
      ]
    },
    {
      "cell_type": "code",
      "metadata": {
        "id": "B6IOKBIig5Nu",
        "colab_type": "code",
        "colab": {}
      },
      "source": [
        "import pandas as pd\n",
        "data=pd.read_csv(\"/content/drive/My Drive/ML PROJECT/diabetic_data.csv\")\n",
        "\n",
        "diag_1=data['diag_1'].values\n",
        "diag_2=data['diag_2'].values\n",
        "diag_3=data['diag_3'].values\n",
        "number_diagnoses=data['number_diagnoses'].values\n",
        "max_glu_serum=data['max_glu_serum'].values\n",
        "metformin=data['metformin'].values\n",
        "repaglinide=data['repaglinide'].values\n",
        "nateglinide=data['nateglinide'].values\n",
        "chlorpropamide=data['chlorpropamide'].values\n",
        "glimepiride=data['glimepiride'].values\n",
        "acetohexamide=data['acetohexamide'].values\n",
        "glipizide=data['glipizide'].values\n",
        "glyburide=data['glyburide'].values\n",
        "tolbutamide=data['tolbutamide'].values\n",
        "pioglitazone=data['pioglitazone'].values\n",
        "rosiglitazone=data['rosiglitazone'].values\n",
        "acarbose=data['acarbose'].values\n",
        "\n"
      ],
      "execution_count": 0,
      "outputs": []
    },
    {
      "cell_type": "code",
      "metadata": {
        "id": "vy2sy4fA0IA_",
        "colab_type": "code",
        "outputId": "cab689bd-4585-4d15-a65a-b55d11e4fe7b",
        "colab": {
          "base_uri": "https://localhost:8080/",
          "height": 34
        }
      },
      "source": [
        "countd1=0\n",
        "for i in range(len(diag_1)):\n",
        "  if(diag_1[i]=='?' or diag_1[i][0]=='V'):\n",
        "    countd1+=1\n",
        "print(countd1/len(diag_1))"
      ],
      "execution_count": 0,
      "outputs": [
        {
          "output_type": "stream",
          "text": [
            "0.016361063616532043\n"
          ],
          "name": "stdout"
        }
      ]
    },
    {
      "cell_type": "code",
      "metadata": {
        "id": "IXAAkl1B2Wkz",
        "colab_type": "code",
        "outputId": "bf617b61-3a19-412f-b3cf-211bf71c3303",
        "colab": {
          "base_uri": "https://localhost:8080/",
          "height": 34
        }
      },
      "source": [
        "countd2=0\n",
        "for i in range(len(diag_2)):\n",
        "  if(diag_2[i]=='?' or diag_2[i][0]=='V'):\n",
        "    countd2+=1\n",
        "print(countd2/len(diag_2))"
      ],
      "execution_count": 0,
      "outputs": [
        {
          "output_type": "stream",
          "text": [
            "0.021254643004539827\n"
          ],
          "name": "stdout"
        }
      ]
    },
    {
      "cell_type": "code",
      "metadata": {
        "id": "orVOs13v2hYd",
        "colab_type": "code",
        "outputId": "27b2e621-d7df-4efa-a62a-b3fd5136abbe",
        "colab": {
          "base_uri": "https://localhost:8080/",
          "height": 34
        }
      },
      "source": [
        "countd3=0\n",
        "for i in range(len(diag_3)):\n",
        "  if(diag_3[i]=='?' or diag_3[i][0]=='V'):\n",
        "    countd3+=1\n",
        "print(countd3/len(diag_3))"
      ],
      "execution_count": 0,
      "outputs": [
        {
          "output_type": "stream",
          "text": [
            "0.05146119529115815\n"
          ],
          "name": "stdout"
        }
      ]
    },
    {
      "cell_type": "code",
      "metadata": {
        "id": "7WyJb-aW3dW_",
        "colab_type": "code",
        "outputId": "667ca1fe-a455-4f20-c9f3-9bb49a23931d",
        "colab": {
          "base_uri": "https://localhost:8080/",
          "height": 34
        }
      },
      "source": [
        "countnum=0\n",
        "for i in range(len(number_diagnoses)):\n",
        "  if(number_diagnoses[i]=='?'):\n",
        "    countnum+=1\n",
        "print(countnum)"
      ],
      "execution_count": 0,
      "outputs": [
        {
          "output_type": "stream",
          "text": [
            "0\n"
          ],
          "name": "stdout"
        }
      ]
    },
    {
      "cell_type": "code",
      "metadata": {
        "id": "Gp52hTi-4QAh",
        "colab_type": "code",
        "outputId": "7fea0614-1bea-4350-fae8-025d548adb34",
        "colab": {
          "base_uri": "https://localhost:8080/",
          "height": 34
        }
      },
      "source": [
        "count_gluserum=0\n",
        "for i in range(len(max_glu_serum)):\n",
        "  if(max_glu_serum[i]=='None'):\n",
        "    count_gluserum+=1\n",
        "print(count_gluserum/len(max_glu_serum))\n"
      ],
      "execution_count": 0,
      "outputs": [
        {
          "output_type": "stream",
          "text": [
            "0.9474677200636755\n"
          ],
          "name": "stdout"
        }
      ]
    },
    {
      "cell_type": "code",
      "metadata": {
        "id": "6MgOTs815hro",
        "colab_type": "code",
        "outputId": "e9cc2a12-4d66-4f8f-a56f-da58e94a7896",
        "colab": {
          "base_uri": "https://localhost:8080/",
          "height": 34
        }
      },
      "source": [
        "count_metformin=0\n",
        "for i in range(len(metformin)):\n",
        "  if(metformin[i]=='No'):\n",
        "    count_metformin+=1\n",
        "print(count_metformin/len(metformin))"
      ],
      "execution_count": 0,
      "outputs": [
        {
          "output_type": "stream",
          "text": [
            "0.8035886248845391\n"
          ],
          "name": "stdout"
        }
      ]
    },
    {
      "cell_type": "code",
      "metadata": {
        "id": "xxeFmY7A6WbR",
        "colab_type": "code",
        "outputId": "b15ba3b3-f831-46a4-8de8-68734d7238a6",
        "colab": {
          "base_uri": "https://localhost:8080/",
          "height": 34
        }
      },
      "source": [
        "count_repaglinide=0\n",
        "for i in range(len(repaglinide)):\n",
        "  if(repaglinide[i]=='No'):\n",
        "    count_repaglinide+=1\n",
        "print(count_repaglinide/len(repaglinide))\n"
      ],
      "execution_count": 0,
      "outputs": [
        {
          "output_type": "stream",
          "text": [
            "0.9848770709274217\n"
          ],
          "name": "stdout"
        }
      ]
    },
    {
      "cell_type": "code",
      "metadata": {
        "id": "o2bdKkvv7Dlx",
        "colab_type": "code",
        "outputId": "6acef55b-377a-4809-c178-0e1acf4dd5e9",
        "colab": {
          "base_uri": "https://localhost:8080/",
          "height": 34
        }
      },
      "source": [
        "count_nateglinide=0\n",
        "for i in range(len(nateglinide)):\n",
        "  if(nateglinide[i]=='No'):\n",
        "    count_nateglinide+=1\n",
        "print(count_nateglinide/len(nateglinide))\n"
      ],
      "execution_count": 0,
      "outputs": [
        {
          "output_type": "stream",
          "text": [
            "0.9930919953619087\n"
          ],
          "name": "stdout"
        }
      ]
    },
    {
      "cell_type": "code",
      "metadata": {
        "id": "WVFSDnaj7wnx",
        "colab_type": "code",
        "outputId": "aec85771-bf60-48fc-d982-062ee3645229",
        "colab": {
          "base_uri": "https://localhost:8080/",
          "height": 34
        }
      },
      "source": [
        "count_chlorpropamide=0\n",
        "for i in range(len(chlorpropamide)):\n",
        "  if(chlorpropamide[i]=='No'):\n",
        "    count_chlorpropamide+=1\n",
        "print(count_chlorpropamide/len(chlorpropamide))"
      ],
      "execution_count": 0,
      "outputs": [
        {
          "output_type": "stream",
          "text": [
            "0.9991549240414284\n"
          ],
          "name": "stdout"
        }
      ]
    },
    {
      "cell_type": "code",
      "metadata": {
        "id": "tiJ0csv38QrL",
        "colab_type": "code",
        "outputId": "090d0264-7a00-437c-b9c4-7e967cc86f36",
        "colab": {
          "base_uri": "https://localhost:8080/",
          "height": 34
        }
      },
      "source": [
        "count_glimepiride=0\n",
        "for i in range(len(glimepiride)):\n",
        "  if(glimepiride[i]=='No'):\n",
        "    count_glimepiride+=1\n",
        "print(count_glimepiride/len(glimepiride))"
      ],
      "execution_count": 0,
      "outputs": [
        {
          "output_type": "stream",
          "text": [
            "0.9489908220820313\n"
          ],
          "name": "stdout"
        }
      ]
    },
    {
      "cell_type": "code",
      "metadata": {
        "id": "N29AslAW8rF1",
        "colab_type": "code",
        "outputId": "3d874286-b02c-49f3-bc7c-02986420d4b8",
        "colab": {
          "base_uri": "https://localhost:8080/",
          "height": 34
        }
      },
      "source": [
        "count_acetohexamide=0\n",
        "for i in range(len(acetohexamide)):\n",
        "  if(acetohexamide[i]=='No'):\n",
        "    count_acetohexamide+=1\n",
        "print(count_acetohexamide/len(acetohexamide))"
      ],
      "execution_count": 0,
      "outputs": [
        {
          "output_type": "stream",
          "text": [
            "0.9999901735353655\n"
          ],
          "name": "stdout"
        }
      ]
    },
    {
      "cell_type": "code",
      "metadata": {
        "id": "-OkcExhz9KMb",
        "colab_type": "code",
        "outputId": "43313241-1bfd-46e9-d4e2-9e881cf1d85c",
        "colab": {
          "base_uri": "https://localhost:8080/",
          "height": 34
        }
      },
      "source": [
        "count_glipizide=0\n",
        "for i in range(len(glipizide)):\n",
        "  if(glipizide[i]=='No'):\n",
        "    count_glipizide+=1\n",
        "print(count_glipizide/len(glipizide))"
      ],
      "execution_count": 0,
      "outputs": [
        {
          "output_type": "stream",
          "text": [
            "0.8753414696460508\n"
          ],
          "name": "stdout"
        }
      ]
    },
    {
      "cell_type": "code",
      "metadata": {
        "id": "HPiiLO4B9idM",
        "colab_type": "code",
        "outputId": "472d197f-b84c-4905-b041-afaefbccebbb",
        "colab": {
          "base_uri": "https://localhost:8080/",
          "height": 34
        }
      },
      "source": [
        "count_glyburide=0\n",
        "for i in range(len(glyburide)):\n",
        "  if(glyburide[i]=='No'):\n",
        "    count_glyburide+=1\n",
        "print(count_glyburide/len(glyburide))"
      ],
      "execution_count": 0,
      "outputs": [
        {
          "output_type": "stream",
          "text": [
            "0.8953481516420022\n"
          ],
          "name": "stdout"
        }
      ]
    },
    {
      "cell_type": "code",
      "metadata": {
        "id": "tlyaRhsr-OGC",
        "colab_type": "code",
        "outputId": "bbf0678c-f5df-40fd-cc15-3d077cb6a7e5",
        "colab": {
          "base_uri": "https://localhost:8080/",
          "height": 34
        }
      },
      "source": [
        "count_tolbutamide=0\n",
        "for i in range(len(tolbutamide)):\n",
        "  if(tolbutamide[i]=='No'):\n",
        "    count_tolbutamide+=1\n",
        "print(count_tolbutamide/len(tolbutamide))"
      ],
      "execution_count": 0,
      "outputs": [
        {
          "output_type": "stream",
          "text": [
            "0.9997739913134053\n"
          ],
          "name": "stdout"
        }
      ]
    },
    {
      "cell_type": "code",
      "metadata": {
        "id": "G-fo7_Lb-o9l",
        "colab_type": "code",
        "outputId": "4faf8ca4-7e7e-4427-b469-36dab9770cc0",
        "colab": {
          "base_uri": "https://localhost:8080/",
          "height": 34
        }
      },
      "source": [
        "count_pioglitazone=0\n",
        "for i in range(len(pioglitazone)):\n",
        "  if(pioglitazone[i]=='No'):\n",
        "    count_pioglitazone+=1\n",
        "print(count_pioglitazone/len(pioglitazone))"
      ],
      "execution_count": 0,
      "outputs": [
        {
          "output_type": "stream",
          "text": [
            "0.9279916671579899\n"
          ],
          "name": "stdout"
        }
      ]
    },
    {
      "cell_type": "code",
      "metadata": {
        "id": "xWsPGWcs-7m2",
        "colab_type": "code",
        "outputId": "0d6d4358-31eb-44e2-b548-dadcbcb38c7b",
        "colab": {
          "base_uri": "https://localhost:8080/",
          "height": 34
        }
      },
      "source": [
        "count_rosiglitazone=0\n",
        "for i in range(len(rosiglitazone)):\n",
        "  if(rosiglitazone[i]=='No'):\n",
        "    count_rosiglitazone+=1\n",
        "print(count_rosiglitazone/len(rosiglitazone))\n"
      ],
      "execution_count": 0,
      "outputs": [
        {
          "output_type": "stream",
          "text": [
            "0.9374545526010651\n"
          ],
          "name": "stdout"
        }
      ]
    },
    {
      "cell_type": "code",
      "metadata": {
        "id": "17FmVWGF_guO",
        "colab_type": "code",
        "outputId": "190afca2-08be-4039-d8aa-8478f38a0ca3",
        "colab": {
          "base_uri": "https://localhost:8080/",
          "height": 34
        }
      },
      "source": [
        "count_acarbose=0\n",
        "for i in range(len(acarbose)):\n",
        "  if(acarbose[i]=='No'):\n",
        "    count_acarbose+=1\n",
        "print(count_acarbose/len(acarbose))"
      ],
      "execution_count": 0,
      "outputs": [
        {
          "output_type": "stream",
          "text": [
            "0.9969734488925575\n"
          ],
          "name": "stdout"
        }
      ]
    },
    {
      "cell_type": "code",
      "metadata": {
        "colab_type": "code",
        "id": "scOZfjg8txGn",
        "outputId": "26bd0216-8031-42b7-8233-5c06efe28d11",
        "colab": {
          "base_uri": "https://localhost:8080/",
          "height": 314
        }
      },
      "source": [
        "import matplotlib.pyplot as plt\n",
        "data.groupby('A1Cresult').size().plot(kind='bar')\n",
        "plt.xlabel('A1Cresult -->')\n",
        "plt.ylabel('No. of patients -->')\n"
      ],
      "execution_count": 0,
      "outputs": [
        {
          "output_type": "execute_result",
          "data": {
            "text/plain": [
              "Text(0, 0.5, 'No. of patients -->')"
            ]
          },
          "metadata": {
            "tags": []
          },
          "execution_count": 20
        },
        {
          "output_type": "display_data",
          "data": {
            "image/png": "[encoded data removed]",
            "text/plain": [
              "<Figure size 432x288 with 1 Axes>"
            ]
          },
          "metadata": {
            "tags": []
          }
        }
      ]
    },
    {
      "cell_type": "code",
      "metadata": {
        "id": "M2uu_6amAwyo",
        "colab_type": "code",
        "outputId": "184ed37e-55ac-486b-9109-6f76229b6c2c",
        "colab": {
          "base_uri": "https://localhost:8080/",
          "height": 34
        }
      },
      "source": [
        "data.drop(columns=['max_glu_serum','A1Cresult','glipizide','glyburide','repaglinide','nateglinide','chlorpropamide','acetohexamide','tolbutamide','acarbose'],inplace=True)\n",
        "data.shape"
      ],
      "execution_count": 0,
      "outputs": [
        {
          "output_type": "execute_result",
          "data": {
            "text/plain": [
              "(101766, 40)"
            ]
          },
          "metadata": {
            "tags": []
          },
          "execution_count": 21
        }
      ]
    },
    {
      "cell_type": "code",
      "metadata": {
        "id": "YKMcipQ1dS_t",
        "colab_type": "code",
        "colab": {}
      },
      "source": [
        "import pandas as pd\n",
        "#!ls \"/content/drive/My Drive/ML PROJECT/diabetic_data.csv\"\n",
        "#data = pd.read_csv(\"/content/drive/My Drive/ML PROJECT/diabetic_data.csv\")\n",
        "#print(data.shape)\n",
        "data.loc[data.readmitted != 'NO', 'readmitted'] = 1\n",
        "data.loc[data.readmitted == 'NO', 'readmitted'] = 0\n",
        "#print(data['readmitted'])\n"
      ],
      "execution_count": 0,
      "outputs": []
    },
    {
      "cell_type": "code",
      "metadata": {
        "id": "aWNNEEpSiDBq",
        "colab_type": "code",
        "outputId": "40e3567f-d1ca-4213-c03a-8e2eee97e5d9",
        "colab": {
          "base_uri": "https://localhost:8080/",
          "height": 293
        }
      },
      "source": [
        "import matplotlib.pyplot as plt\n",
        "data.groupby('readmitted').size().plot(kind='bar')\n",
        "plt.xlabel('Readmitted -->')\n",
        "plt.ylabel('No. of patients -->')"
      ],
      "execution_count": 0,
      "outputs": [
        {
          "output_type": "execute_result",
          "data": {
            "text/plain": [
              "Text(0, 0.5, 'No. of patients -->')"
            ]
          },
          "metadata": {
            "tags": []
          },
          "execution_count": 23
        },
        {
          "output_type": "display_data",
          "data": {
            "image/png": "[encoded data removed]",
            "text/plain": [
              "<Figure size 432x288 with 1 Axes>"
            ]
          },
          "metadata": {
            "tags": []
          }
        }
      ]
    },
    {
      "cell_type": "code",
      "metadata": {
        "id": "rToT6vfklzTk",
        "colab_type": "code",
        "outputId": "48d8d2bd-191d-4e65-8441-39f95c80bbd0",
        "colab": {
          "base_uri": "https://localhost:8080/",
          "height": 321
        }
      },
      "source": [
        "data.groupby('miglitol').size().plot(kind='bar')\n",
        "plt.xlabel('Miglitol -->')\n",
        "plt.ylabel('No. of patients -->')\n"
      ],
      "execution_count": 0,
      "outputs": [
        {
          "output_type": "execute_result",
          "data": {
            "text/plain": [
              "Text(0, 0.5, 'No. of patients -->')"
            ]
          },
          "metadata": {
            "tags": []
          },
          "execution_count": 24
        },
        {
          "output_type": "display_data",
          "data": {
            "image/png": "[encoded data removed]",
            "text/plain": [
              "<Figure size 432x288 with 1 Axes>"
            ]
          },
          "metadata": {
            "tags": []
          }
        }
      ]
    },
    {
      "cell_type": "code",
      "metadata": {
        "colab_type": "code",
        "id": "zMslKr22mJLt",
        "outputId": "e0303b2b-6b9c-48c3-beaa-e267d145545c",
        "colab": {
          "base_uri": "https://localhost:8080/",
          "height": 321
        }
      },
      "source": [
        "data.groupby('troglitazone').size().plot(kind='bar')\n",
        "plt.xlabel('Troglitazone -->')\n",
        "plt.ylabel('No. of patients -->')\n"
      ],
      "execution_count": 0,
      "outputs": [
        {
          "output_type": "execute_result",
          "data": {
            "text/plain": [
              "Text(0, 0.5, 'No. of patients -->')"
            ]
          },
          "metadata": {
            "tags": []
          },
          "execution_count": 25
        },
        {
          "output_type": "display_data",
          "data": {
            "image/png": "[encoded data removed]",
            "text/plain": [
              "<Figure size 432x288 with 1 Axes>"
            ]
          },
          "metadata": {
            "tags": []
          }
        }
      ]
    },
    {
      "cell_type": "code",
      "metadata": {
        "colab_type": "code",
        "id": "SKdWZl3DmJ5E",
        "outputId": "122fd8b3-cde3-4dd4-fed4-ed856bb70d3d",
        "colab": {
          "base_uri": "https://localhost:8080/",
          "height": 321
        }
      },
      "source": [
        "data.groupby('tolazamide').size().plot(kind='bar')\n",
        "plt.xlabel('Tolazamide -->')\n",
        "plt.ylabel('No. of patients -->')\n"
      ],
      "execution_count": 0,
      "outputs": [
        {
          "output_type": "execute_result",
          "data": {
            "text/plain": [
              "Text(0, 0.5, 'No. of patients -->')"
            ]
          },
          "metadata": {
            "tags": []
          },
          "execution_count": 26
        },
        {
          "output_type": "display_data",
          "data": {
            "image/png": "[encoded data removed]",
            "text/plain": [
              "<Figure size 432x288 with 1 Axes>"
            ]
          },
          "metadata": {
            "tags": []
          }
        }
      ]
    },
    {
      "cell_type": "code",
      "metadata": {
        "colab_type": "code",
        "id": "I2tfdvgWmKcd",
        "outputId": "3ed14b6e-b686-4429-85b4-83fcd85f847e",
        "colab": {
          "base_uri": "https://localhost:8080/",
          "height": 300
        }
      },
      "source": [
        "data.groupby('examide').size().plot(kind='bar')\n",
        "plt.xlabel('Examide -->')\n",
        "plt.ylabel('No. of patients -->')\n"
      ],
      "execution_count": 0,
      "outputs": [
        {
          "output_type": "execute_result",
          "data": {
            "text/plain": [
              "Text(0, 0.5, 'No. of patients -->')"
            ]
          },
          "metadata": {
            "tags": []
          },
          "execution_count": 27
        },
        {
          "output_type": "display_data",
          "data": {
            "image/png": "[encoded data removed]",
            "text/plain": [
              "<Figure size 432x288 with 1 Axes>"
            ]
          },
          "metadata": {
            "tags": []
          }
        }
      ]
    },
    {
      "cell_type": "code",
      "metadata": {
        "colab_type": "code",
        "id": "5-Qhdss8mK9D",
        "outputId": "796b2157-6e2b-4896-dad3-8279cbf4f8e3",
        "colab": {
          "base_uri": "https://localhost:8080/",
          "height": 300
        }
      },
      "source": [
        "data.groupby('citoglipton').size().plot(kind='bar')\n",
        "plt.xlabel('Citoglipton -->')\n",
        "plt.ylabel('No. of patients -->')\n",
        "\n"
      ],
      "execution_count": 0,
      "outputs": [
        {
          "output_type": "execute_result",
          "data": {
            "text/plain": [
              "Text(0, 0.5, 'No. of patients -->')"
            ]
          },
          "metadata": {
            "tags": []
          },
          "execution_count": 28
        },
        {
          "output_type": "display_data",
          "data": {
            "image/png": "[encoded data removed]",
            "text/plain": [
              "<Figure size 432x288 with 1 Axes>"
            ]
          },
          "metadata": {
            "tags": []
          }
        }
      ]
    },
    {
      "cell_type": "code",
      "metadata": {
        "colab_type": "code",
        "id": "1oxf2u17mgbe",
        "outputId": "d2e1cebd-7516-47ea-ed4e-36fc7aa9175f",
        "colab": {
          "base_uri": "https://localhost:8080/",
          "height": 321
        }
      },
      "source": [
        "data.groupby('insulin').size().plot(kind='bar')\n",
        "plt.xlabel('Insulin -->')\n",
        "plt.ylabel('No. of patients -->')\n",
        "\n"
      ],
      "execution_count": 0,
      "outputs": [
        {
          "output_type": "execute_result",
          "data": {
            "text/plain": [
              "Text(0, 0.5, 'No. of patients -->')"
            ]
          },
          "metadata": {
            "tags": []
          },
          "execution_count": 29
        },
        {
          "output_type": "display_data",
          "data": {
            "image/png": "[encoded data removed]",
            "text/plain": [
              "<Figure size 432x288 with 1 Axes>"
            ]
          },
          "metadata": {
            "tags": []
          }
        }
      ]
    },
    {
      "cell_type": "code",
      "metadata": {
        "colab_type": "code",
        "id": "rDwxlTEUmhYG",
        "outputId": "1a64e4c2-d7ac-489a-ca02-7e8adff64d6e",
        "colab": {
          "base_uri": "https://localhost:8080/",
          "height": 321
        }
      },
      "source": [
        "data.groupby('glyburide-metformin').size().plot(kind='bar')\n",
        "plt.xlabel('Glyburide-metformin -->')\n",
        "plt.ylabel('No. of patients -->')\n"
      ],
      "execution_count": 0,
      "outputs": [
        {
          "output_type": "execute_result",
          "data": {
            "text/plain": [
              "Text(0, 0.5, 'No. of patients -->')"
            ]
          },
          "metadata": {
            "tags": []
          },
          "execution_count": 30
        },
        {
          "output_type": "display_data",
          "data": {
            "image/png": "[encoded data removed]",
            "text/plain": [
              "<Figure size 432x288 with 1 Axes>"
            ]
          },
          "metadata": {
            "tags": []
          }
        }
      ]
    },
    {
      "cell_type": "code",
      "metadata": {
        "colab_type": "code",
        "id": "gqCevxejmhza",
        "outputId": "2f64a283-b320-443d-bf03-6614cfffcc8f",
        "colab": {
          "base_uri": "https://localhost:8080/",
          "height": 321
        }
      },
      "source": [
        "data.groupby('glipizide-metformin').size().plot(kind='bar')\n",
        "plt.xlabel('Glipizide-metformin -->')\n",
        "plt.ylabel('No. of patients -->')\n"
      ],
      "execution_count": 0,
      "outputs": [
        {
          "output_type": "execute_result",
          "data": {
            "text/plain": [
              "Text(0, 0.5, 'No. of patients -->')"
            ]
          },
          "metadata": {
            "tags": []
          },
          "execution_count": 31
        },
        {
          "output_type": "display_data",
          "data": {
            "image/png": "[encoded data removed]",
            "text/plain": [
              "<Figure size 432x288 with 1 Axes>"
            ]
          },
          "metadata": {
            "tags": []
          }
        }
      ]
    },
    {
      "cell_type": "code",
      "metadata": {
        "colab_type": "code",
        "id": "MW6QZ0gpmiIt",
        "outputId": "a078a613-d17c-4ea5-bfbf-87483d4f1282",
        "colab": {
          "base_uri": "https://localhost:8080/",
          "height": 321
        }
      },
      "source": [
        "data.groupby('glimepiride-pioglitazone').size().plot(kind='bar')\n",
        "plt.xlabel('Glimepiride-pioglitazone -->')\n",
        "plt.ylabel('No. of patients -->')\n"
      ],
      "execution_count": 0,
      "outputs": [
        {
          "output_type": "execute_result",
          "data": {
            "text/plain": [
              "Text(0, 0.5, 'No. of patients -->')"
            ]
          },
          "metadata": {
            "tags": []
          },
          "execution_count": 32
        },
        {
          "output_type": "display_data",
          "data": {
            "image/png": "[encoded data removed]",
            "text/plain": [
              "<Figure size 432x288 with 1 Axes>"
            ]
          },
          "metadata": {
            "tags": []
          }
        }
      ]
    },
    {
      "cell_type": "code",
      "metadata": {
        "colab_type": "code",
        "id": "SHqudKkSmiU7",
        "outputId": "2f142891-4926-4460-9e45-d9ec6579b97b",
        "colab": {
          "base_uri": "https://localhost:8080/",
          "height": 321
        }
      },
      "source": [
        "data.groupby('metformin-rosiglitazone').size().plot(kind='bar')\n",
        "plt.xlabel('Metformin-rosiglitazone -->')\n",
        "plt.ylabel('No. of patients -->')\n"
      ],
      "execution_count": 0,
      "outputs": [
        {
          "output_type": "execute_result",
          "data": {
            "text/plain": [
              "Text(0, 0.5, 'No. of patients -->')"
            ]
          },
          "metadata": {
            "tags": []
          },
          "execution_count": 33
        },
        {
          "output_type": "display_data",
          "data": {
            "image/png": "[encoded data removed]",
            "text/plain": [
              "<Figure size 432x288 with 1 Axes>"
            ]
          },
          "metadata": {
            "tags": []
          }
        }
      ]
    },
    {
      "cell_type": "code",
      "metadata": {
        "colab_type": "code",
        "id": "gI4L-KuomifR",
        "outputId": "e362b08f-3c64-448c-965a-d783ffe87734",
        "colab": {
          "base_uri": "https://localhost:8080/",
          "height": 321
        }
      },
      "source": [
        "data.groupby('metformin-pioglitazone').size().plot(kind='bar')\n",
        "plt.xlabel('Metformin-pioglitazone -->')\n",
        "plt.ylabel('No. of patients -->')\n"
      ],
      "execution_count": 0,
      "outputs": [
        {
          "output_type": "execute_result",
          "data": {
            "text/plain": [
              "Text(0, 0.5, 'No. of patients -->')"
            ]
          },
          "metadata": {
            "tags": []
          },
          "execution_count": 34
        },
        {
          "output_type": "display_data",
          "data": {
            "image/png": "[encoded data removed]",
            "text/plain": [
              "<Figure size 432x288 with 1 Axes>"
            ]
          },
          "metadata": {
            "tags": []
          }
        }
      ]
    },
    {
      "cell_type": "code",
      "metadata": {
        "colab_type": "code",
        "id": "4qV2epXlmipf",
        "outputId": "17710229-11a9-4d49-f2b0-c09c89ac1c0d",
        "colab": {
          "base_uri": "https://localhost:8080/",
          "height": 304
        }
      },
      "source": [
        "data.loc[data.change == 'Ch', 'change'] = 'Yes'\n",
        "data.groupby('change').size().plot(kind='bar')\n",
        "plt.xlabel('Medication Changed -->')\n",
        "plt.ylabel('No. of patients -->')\n"
      ],
      "execution_count": 0,
      "outputs": [
        {
          "output_type": "execute_result",
          "data": {
            "text/plain": [
              "Text(0, 0.5, 'No. of patients -->')"
            ]
          },
          "metadata": {
            "tags": []
          },
          "execution_count": 35
        },
        {
          "output_type": "display_data",
          "data": {
            "image/png": "[encoded data removed]",
            "text/plain": [
              "<Figure size 432x288 with 1 Axes>"
            ]
          },
          "metadata": {
            "tags": []
          }
        }
      ]
    },
    {
      "cell_type": "code",
      "metadata": {
        "colab_type": "code",
        "id": "GA7VEYgUp-4E",
        "outputId": "7796a160-a63c-411e-841f-8e00c9f64383",
        "colab": {
          "base_uri": "https://localhost:8080/",
          "height": 304
        }
      },
      "source": [
        "data.groupby('diabetesMed').size().plot(kind='bar')\n",
        "plt.xlabel('DiabetesMed prescribed -->')\n",
        "plt.ylabel('No. of patients -->')\n"
      ],
      "execution_count": 0,
      "outputs": [
        {
          "output_type": "execute_result",
          "data": {
            "text/plain": [
              "Text(0, 0.5, 'No. of patients -->')"
            ]
          },
          "metadata": {
            "tags": []
          },
          "execution_count": 36
        },
        {
          "output_type": "display_data",
          "data": {
            "image/png": "[encoded data removed]",
            "text/plain": [
              "<Figure size 432x288 with 1 Axes>"
            ]
          },
          "metadata": {
            "tags": []
          }
        }
      ]
    },
    {
      "cell_type": "code",
      "metadata": {
        "id": "yxk6S1HloGp3",
        "colab_type": "code",
        "outputId": "be5468e8-217b-4e0e-fef3-e0ab9f2756a9",
        "colab": {
          "base_uri": "https://localhost:8080/",
          "height": 34
        }
      },
      "source": [
        "data.drop(columns=['miglitol','troglitazone','tolazamide','examide','citoglipton','glyburide-metformin','glipizide-metformin','glimepiride-pioglitazone','metformin-rosiglitazone','metformin-pioglitazone'],inplace=True)\n",
        "data.shape"
      ],
      "execution_count": 0,
      "outputs": [
        {
          "output_type": "execute_result",
          "data": {
            "text/plain": [
              "(101766, 30)"
            ]
          },
          "metadata": {
            "tags": []
          },
          "execution_count": 37
        }
      ]
    },
    {
      "cell_type": "code",
      "metadata": {
        "id": "3aTw-hCGpwdj",
        "colab_type": "code",
        "colab": {}
      },
      "source": [
        "data = data[data.race != '?']"
      ],
      "execution_count": 0,
      "outputs": []
    },
    {
      "cell_type": "code",
      "metadata": {
        "id": "8HwAzJNhpwdl",
        "colab_type": "code",
        "outputId": "1086531c-ec4b-44ba-b4ab-da4a9f608b9f",
        "colab": {
          "base_uri": "https://localhost:8080/",
          "height": 369
        }
      },
      "source": [
        "import matplotlib.pyplot as plt\n",
        "data.groupby(\"race\").size().plot(kind=\"bar\")\n",
        "plt.ylabel(\"Frequency\")"
      ],
      "execution_count": 0,
      "outputs": [
        {
          "output_type": "execute_result",
          "data": {
            "text/plain": [
              "Text(0, 0.5, 'Frequency')"
            ]
          },
          "metadata": {
            "tags": []
          },
          "execution_count": 39
        },
        {
          "output_type": "display_data",
          "data": {
            "image/png": "[encoded data removed]",
            "text/plain": [
              "<Figure size 432x288 with 1 Axes>"
            ]
          },
          "metadata": {
            "tags": []
          }
        }
      ]
    },
    {
      "cell_type": "code",
      "metadata": {
        "id": "9HJ4lzvYpwdn",
        "colab_type": "code",
        "outputId": "5b9fc1ef-574d-4818-a8e0-203c8b63a53c",
        "colab": {
          "base_uri": "https://localhost:8080/",
          "height": 322
        }
      },
      "source": [
        "data = data[data.gender != 'Unknown/Invalid']\n",
        "data.groupby(\"gender\").size().plot(kind=\"bar\")\n",
        "plt.ylabel(\"Frequency\")"
      ],
      "execution_count": 0,
      "outputs": [
        {
          "output_type": "execute_result",
          "data": {
            "text/plain": [
              "Text(0, 0.5, 'Frequency')"
            ]
          },
          "metadata": {
            "tags": []
          },
          "execution_count": 40
        },
        {
          "output_type": "display_data",
          "data": {
            "image/png": "[encoded data removed]",
            "text/plain": [
              "<Figure size 432x288 with 1 Axes>"
            ]
          },
          "metadata": {
            "tags": []
          }
        }
      ]
    },
    {
      "cell_type": "code",
      "metadata": {
        "id": "VUQl73Dzpwdp",
        "colab_type": "code",
        "outputId": "67582adf-6a0b-4738-865b-0877cb8e5b47",
        "colab": {
          "base_uri": "https://localhost:8080/",
          "height": 329
        }
      },
      "source": [
        "data.groupby(\"age\").size().plot(kind=\"bar\")"
      ],
      "execution_count": 0,
      "outputs": [
        {
          "output_type": "execute_result",
          "data": {
            "text/plain": [
              "<matplotlib.axes._subplots.AxesSubplot at 0x7fd0fd3aaeb8>"
            ]
          },
          "metadata": {
            "tags": []
          },
          "execution_count": 41
        },
        {
          "output_type": "display_data",
          "data": {
            "image/png": "[encoded data removed]",
            "text/plain": [
              "<Figure size 432x288 with 1 Axes>"
            ]
          },
          "metadata": {
            "tags": []
          }
        }
      ]
    },
    {
      "cell_type": "code",
      "metadata": {
        "id": "6ZbFhHSWpwds",
        "colab_type": "code",
        "colab": {}
      },
      "source": [
        "data['age'] = pd.Series(['[0-40)' if val in ['[0-10)', '[10-20)', '[20-30)', '[30-40)'] else val for val in data['age']], index=data.index)"
      ],
      "execution_count": 0,
      "outputs": []
    },
    {
      "cell_type": "code",
      "metadata": {
        "id": "hA-dtzoPpwdu",
        "colab_type": "code",
        "outputId": "012fceeb-51db-419a-aabc-7d730c9f26d3",
        "colab": {
          "base_uri": "https://localhost:8080/",
          "height": 329
        }
      },
      "source": [
        "data.groupby(\"age\").size().plot(kind=\"bar\")"
      ],
      "execution_count": 0,
      "outputs": [
        {
          "output_type": "execute_result",
          "data": {
            "text/plain": [
              "<matplotlib.axes._subplots.AxesSubplot at 0x7fd0fd326be0>"
            ]
          },
          "metadata": {
            "tags": []
          },
          "execution_count": 43
        },
        {
          "output_type": "display_data",
          "data": {
            "image/png": "[encoded data removed]",
            "text/plain": [
              "<Figure size 432x288 with 1 Axes>"
            ]
          },
          "metadata": {
            "tags": []
          }
        }
      ]
    },
    {
      "cell_type": "code",
      "metadata": {
        "id": "2uvwqQevpwdw",
        "colab_type": "code",
        "outputId": "ce1b719c-1592-428b-99bb-4b8b3f2a4603",
        "colab": {
          "base_uri": "https://localhost:8080/",
          "height": 294
        }
      },
      "source": [
        "data.groupby(\"admission_type_id\").size().plot(kind=\"bar\")"
      ],
      "execution_count": 0,
      "outputs": [
        {
          "output_type": "execute_result",
          "data": {
            "text/plain": [
              "<matplotlib.axes._subplots.AxesSubplot at 0x7fd0fd2f9390>"
            ]
          },
          "metadata": {
            "tags": []
          },
          "execution_count": 44
        },
        {
          "output_type": "display_data",
          "data": {
            "image/png": "[encoded data removed]",
            "text/plain": [
              "<Figure size 432x288 with 1 Axes>"
            ]
          },
          "metadata": {
            "tags": []
          }
        }
      ]
    },
    {
      "cell_type": "code",
      "metadata": {
        "id": "exZf-AJSpwdy",
        "colab_type": "code",
        "outputId": "df2c98ec-e0fe-48eb-8580-f1f01b052f09",
        "colab": {
          "base_uri": "https://localhost:8080/",
          "height": 300
        }
      },
      "source": [
        "data.groupby(\"discharge_disposition_id\").size().plot(kind=\"bar\")"
      ],
      "execution_count": 0,
      "outputs": [
        {
          "output_type": "execute_result",
          "data": {
            "text/plain": [
              "<matplotlib.axes._subplots.AxesSubplot at 0x7fd0fd26fdd8>"
            ]
          },
          "metadata": {
            "tags": []
          },
          "execution_count": 45
        },
        {
          "output_type": "display_data",
          "data": {
            "image/png": "[encoded data removed]",
            "text/plain": [
              "<Figure size 432x288 with 1 Axes>"
            ]
          },
          "metadata": {
            "tags": []
          }
        }
      ]
    },
    {
      "cell_type": "code",
      "metadata": {
        "id": "Je8rw-K2pwd1",
        "colab_type": "code",
        "outputId": "0631a3b4-f741-4787-bdbe-e60057039e10",
        "colab": {
          "base_uri": "https://localhost:8080/",
          "height": 376
        }
      },
      "source": [
        "data['discharge_disposition_id'] = pd.Series(['Discharged Home' if val == 1 else 'Other discharge' for val in data['discharge_disposition_id']], index=data.index)\n",
        "data.groupby(\"discharge_disposition_id\").size().plot(kind=\"bar\")"
      ],
      "execution_count": 0,
      "outputs": [
        {
          "output_type": "execute_result",
          "data": {
            "text/plain": [
              "<matplotlib.axes._subplots.AxesSubplot at 0x7fd0fd1fe278>"
            ]
          },
          "metadata": {
            "tags": []
          },
          "execution_count": 46
        },
        {
          "output_type": "display_data",
          "data": {
            "image/png": "[encoded data removed]",
            "text/plain": [
              "<Figure size 432x288 with 1 Axes>"
            ]
          },
          "metadata": {
            "tags": []
          }
        }
      ]
    },
    {
      "cell_type": "code",
      "metadata": {
        "id": "R67v6eAapwd3",
        "colab_type": "code",
        "outputId": "6fe42921-a300-4465-c703-c7e89014c487",
        "colab": {
          "base_uri": "https://localhost:8080/",
          "height": 300
        }
      },
      "source": [
        "data.groupby(\"admission_source_id\").size().plot(kind=\"bar\")"
      ],
      "execution_count": 0,
      "outputs": [
        {
          "output_type": "execute_result",
          "data": {
            "text/plain": [
              "<matplotlib.axes._subplots.AxesSubplot at 0x7fd0fd1916a0>"
            ]
          },
          "metadata": {
            "tags": []
          },
          "execution_count": 47
        },
        {
          "output_type": "display_data",
          "data": {
            "image/png": "[encoded data removed]",
            "text/plain": [
              "<Figure size 432x288 with 1 Axes>"
            ]
          },
          "metadata": {
            "tags": []
          }
        }
      ]
    },
    {
      "cell_type": "code",
      "metadata": {
        "id": "Pwl82OaFpwd6",
        "colab_type": "code",
        "colab": {}
      },
      "source": [
        "data['admission_source_id'] = pd.Series(['Emergency Room' if val == 7 else 'physician/clinic referral' if val == 1 else 'Others' for val in data['admission_source_id']], index=data.index)"
      ],
      "execution_count": 0,
      "outputs": []
    },
    {
      "cell_type": "code",
      "metadata": {
        "id": "O7dropEApwd8",
        "colab_type": "code",
        "outputId": "7815a241-1c52-4d78-c602-d60010cf95fe",
        "colab": {
          "base_uri": "https://localhost:8080/",
          "height": 404
        }
      },
      "source": [
        "data.groupby(\"admission_source_id\").size().plot(kind=\"bar\")"
      ],
      "execution_count": 0,
      "outputs": [
        {
          "output_type": "execute_result",
          "data": {
            "text/plain": [
              "<matplotlib.axes._subplots.AxesSubplot at 0x7fd0fd0d75c0>"
            ]
          },
          "metadata": {
            "tags": []
          },
          "execution_count": 49
        },
        {
          "output_type": "display_data",
          "data": {
            "image/png": "[encoded data removed]",
            "text/plain": [
              "<Figure size 432x288 with 1 Axes>"
            ]
          },
          "metadata": {
            "tags": []
          }
        }
      ]
    },
    {
      "cell_type": "code",
      "metadata": {
        "id": "-JqMOh5mpwd_",
        "colab_type": "code",
        "outputId": "81dca5d8-a7e1-4afb-b345-a6d447ec036b",
        "colab": {
          "base_uri": "https://localhost:8080/",
          "height": 300
        }
      },
      "source": [
        "data.groupby(\"time_in_hospital\").size().plot(kind=\"bar\")"
      ],
      "execution_count": 0,
      "outputs": [
        {
          "output_type": "execute_result",
          "data": {
            "text/plain": [
              "<matplotlib.axes._subplots.AxesSubplot at 0x7fd0fd03af60>"
            ]
          },
          "metadata": {
            "tags": []
          },
          "execution_count": 50
        },
        {
          "output_type": "display_data",
          "data": {
            "image/png": "[encoded data removed]",
            "text/plain": [
              "<Figure size 432x288 with 1 Axes>"
            ]
          },
          "metadata": {
            "tags": []
          }
        }
      ]
    },
    {
      "cell_type": "code",
      "metadata": {
        "id": "OIFsXCbtpweE",
        "colab_type": "code",
        "colab": {}
      },
      "source": [
        ""
      ],
      "execution_count": 0,
      "outputs": []
    },
    {
      "cell_type": "code",
      "metadata": {
        "id": "2Xwz1jZ8pweL",
        "colab_type": "code",
        "colab": {}
      },
      "source": [
        "data.drop(columns=['encounter_id', 'patient_nbr','weight','payer_code','medical_specialty'], inplace=True)"
      ],
      "execution_count": 0,
      "outputs": []
    },
    {
      "cell_type": "code",
      "metadata": {
        "id": "ofKy5tZOpweN",
        "colab_type": "code",
        "outputId": "27371a03-24f4-46da-a03a-674531a4a959",
        "colab": {
          "base_uri": "https://localhost:8080/",
          "height": 306
        }
      },
      "source": [
        "data.groupby(\"num_lab_procedures\").size().plot(kind='bar')"
      ],
      "execution_count": 0,
      "outputs": [
        {
          "output_type": "execute_result",
          "data": {
            "text/plain": [
              "<matplotlib.axes._subplots.AxesSubplot at 0x7fd0fcf9ec18>"
            ]
          },
          "metadata": {
            "tags": []
          },
          "execution_count": 52
        },
        {
          "output_type": "display_data",
          "data": {
            "image/png": "[encoded data removed]",
            "text/plain": [
              "<Figure size 432x288 with 1 Axes>"
            ]
          },
          "metadata": {
            "tags": []
          }
        }
      ]
    },
    {
      "cell_type": "code",
      "metadata": {
        "id": "qtGF75APpweP",
        "colab_type": "code",
        "outputId": "91339f44-2aa9-46bf-bcd6-2122ead48d70",
        "colab": {
          "base_uri": "https://localhost:8080/",
          "height": 300
        }
      },
      "source": [
        "data.groupby(\"num_medications\").size().plot(kind='bar')"
      ],
      "execution_count": 0,
      "outputs": [
        {
          "output_type": "execute_result",
          "data": {
            "text/plain": [
              "<matplotlib.axes._subplots.AxesSubplot at 0x7fd0fcd1dfd0>"
            ]
          },
          "metadata": {
            "tags": []
          },
          "execution_count": 53
        },
        {
          "output_type": "display_data",
          "data": {
            "image/png": "[encoded data removed]",
            "text/plain": [
              "<Figure size 432x288 with 1 Axes>"
            ]
          },
          "metadata": {
            "tags": []
          }
        }
      ]
    },
    {
      "cell_type": "code",
      "metadata": {
        "id": "7uaLcy8bpweV",
        "colab_type": "code",
        "outputId": "4f9ee956-a8f1-42e9-c8ea-762a7bb307b8",
        "colab": {
          "base_uri": "https://localhost:8080/",
          "height": 300
        }
      },
      "source": [
        "data.groupby(\"number_outpatient\").size().plot(kind='bar')"
      ],
      "execution_count": 0,
      "outputs": [
        {
          "output_type": "execute_result",
          "data": {
            "text/plain": [
              "<matplotlib.axes._subplots.AxesSubplot at 0x7fd0fcb2bcf8>"
            ]
          },
          "metadata": {
            "tags": []
          },
          "execution_count": 54
        },
        {
          "output_type": "display_data",
          "data": {
            "image/png": "[encoded data removed]",
            "text/plain": [
              "<Figure size 432x288 with 1 Axes>"
            ]
          },
          "metadata": {
            "tags": []
          }
        }
      ]
    },
    {
      "cell_type": "code",
      "metadata": {
        "id": "SKu2E2ObpweY",
        "colab_type": "code",
        "colab": {}
      },
      "source": [
        "data['number_outpatient'] = pd.Series(['0' if val == 0 else '>0' for val in data['number_outpatient']], index=data.index)"
      ],
      "execution_count": 0,
      "outputs": []
    },
    {
      "cell_type": "code",
      "metadata": {
        "id": "lMf6VCqOpweZ",
        "colab_type": "code",
        "outputId": "d9d9bf1a-35a5-463f-ab74-137243f0ebf8",
        "colab": {
          "base_uri": "https://localhost:8080/",
          "height": 302
        }
      },
      "source": [
        "data.groupby(\"number_outpatient\").size().plot(kind='bar')"
      ],
      "execution_count": 0,
      "outputs": [
        {
          "output_type": "execute_result",
          "data": {
            "text/plain": [
              "<matplotlib.axes._subplots.AxesSubplot at 0x7fd0fc9e5128>"
            ]
          },
          "metadata": {
            "tags": []
          },
          "execution_count": 56
        },
        {
          "output_type": "display_data",
          "data": {
            "image/png": "[encoded data removed]",
            "text/plain": [
              "<Figure size 432x288 with 1 Axes>"
            ]
          },
          "metadata": {
            "tags": []
          }
        }
      ]
    },
    {
      "cell_type": "code",
      "metadata": {
        "id": "-v_PgfYJpweb",
        "colab_type": "code",
        "outputId": "f21c584a-ddab-47e3-b6f1-db8bb7f9ba72",
        "colab": {
          "base_uri": "https://localhost:8080/",
          "height": 300
        }
      },
      "source": [
        "data.groupby(\"number_emergency\").size().plot(kind='bar')"
      ],
      "execution_count": 0,
      "outputs": [
        {
          "output_type": "execute_result",
          "data": {
            "text/plain": [
              "<matplotlib.axes._subplots.AxesSubplot at 0x7fd0fc9c30b8>"
            ]
          },
          "metadata": {
            "tags": []
          },
          "execution_count": 57
        },
        {
          "output_type": "display_data",
          "data": {
            "image/png": "[encoded data removed]",
            "text/plain": [
              "<Figure size 432x288 with 1 Axes>"
            ]
          },
          "metadata": {
            "tags": []
          }
        }
      ]
    },
    {
      "cell_type": "code",
      "metadata": {
        "id": "tilrl8_Vpwee",
        "colab_type": "code",
        "colab": {}
      },
      "source": [
        "data['number_emergency'] = pd.Series(['0' if val == 0 else '>0' for val in data['number_emergency']], index=data.index)"
      ],
      "execution_count": 0,
      "outputs": []
    },
    {
      "cell_type": "code",
      "metadata": {
        "id": "CJ_hTkbFpweg",
        "colab_type": "code",
        "outputId": "59feb544-c481-4ab0-a3a3-2df1947c9db3",
        "colab": {
          "base_uri": "https://localhost:8080/",
          "height": 302
        }
      },
      "source": [
        "data.groupby(\"number_emergency\").size().plot(kind='bar')"
      ],
      "execution_count": 0,
      "outputs": [
        {
          "output_type": "execute_result",
          "data": {
            "text/plain": [
              "<matplotlib.axes._subplots.AxesSubplot at 0x7fd0fc9dada0>"
            ]
          },
          "metadata": {
            "tags": []
          },
          "execution_count": 59
        },
        {
          "output_type": "display_data",
          "data": {
            "image/png": "[encoded data removed]",
            "text/plain": [
              "<Figure size 432x288 with 1 Axes>"
            ]
          },
          "metadata": {
            "tags": []
          }
        }
      ]
    },
    {
      "cell_type": "code",
      "metadata": {
        "id": "fnXLwQ4Zpwek",
        "colab_type": "code",
        "outputId": "4191c17f-f1e5-47c8-8274-c66c8d1240ad",
        "colab": {
          "base_uri": "https://localhost:8080/",
          "height": 300
        }
      },
      "source": [
        "data.groupby(\"number_inpatient\").size().plot(kind='bar')"
      ],
      "execution_count": 0,
      "outputs": [
        {
          "output_type": "execute_result",
          "data": {
            "text/plain": [
              "<matplotlib.axes._subplots.AxesSubplot at 0x7fd0fc827b00>"
            ]
          },
          "metadata": {
            "tags": []
          },
          "execution_count": 60
        },
        {
          "output_type": "display_data",
          "data": {
            "image/png": "[encoded data removed]",
            "text/plain": [
              "<Figure size 432x288 with 1 Axes>"
            ]
          },
          "metadata": {
            "tags": []
          }
        }
      ]
    },
    {
      "cell_type": "code",
      "metadata": {
        "id": "eUichVxFpwem",
        "colab_type": "code",
        "colab": {}
      },
      "source": [
        "data['number_inpatient'] = pd.Series(['0' if val == 0 else '>0' for val in data['number_inpatient']], index=data.index)"
      ],
      "execution_count": 0,
      "outputs": []
    },
    {
      "cell_type": "code",
      "metadata": {
        "id": "xcNc-v6wpweo",
        "colab_type": "code",
        "outputId": "941d0a05-abdd-47bf-e224-79a55f593e14",
        "colab": {
          "base_uri": "https://localhost:8080/",
          "height": 302
        }
      },
      "source": [
        "data.groupby(\"number_inpatient\").size().plot(kind='bar')"
      ],
      "execution_count": 0,
      "outputs": [
        {
          "output_type": "execute_result",
          "data": {
            "text/plain": [
              "<matplotlib.axes._subplots.AxesSubplot at 0x7fd0fc8948d0>"
            ]
          },
          "metadata": {
            "tags": []
          },
          "execution_count": 62
        },
        {
          "output_type": "display_data",
          "data": {
            "image/png": "[encoded data removed]",
            "text/plain": [
              "<Figure size 432x288 with 1 Axes>"
            ]
          },
          "metadata": {
            "tags": []
          }
        }
      ]
    },
    {
      "cell_type": "code",
      "metadata": {
        "id": "50GkgI_Opweq",
        "colab_type": "code",
        "outputId": "17ef5fc7-5a9f-4f8f-cbb2-5b63491cf1ea",
        "colab": {
          "base_uri": "https://localhost:8080/",
          "height": 34
        }
      },
      "source": [
        "data.shape"
      ],
      "execution_count": 0,
      "outputs": [
        {
          "output_type": "execute_result",
          "data": {
            "text/plain": [
              "(99492, 25)"
            ]
          },
          "metadata": {
            "tags": []
          },
          "execution_count": 63
        }
      ]
    },
    {
      "cell_type": "code",
      "metadata": {
        "id": "3GA8snhWK1cP",
        "colab_type": "code",
        "outputId": "390e0204-0c17-4b21-8cd3-98ccb67049d8",
        "colab": {
          "base_uri": "https://localhost:8080/",
          "height": 279
        }
      },
      "source": [
        "import matplotlib.pyplot as plt\n",
        "\n",
        "plt.xlabel('X1 --> ')\n",
        "plt.ylabel('X2 --> ')\n",
        "plt.scatter(data['num_lab_procedures'],data['num_medications'], cmap=plt.cm.coolwarm,c=data['readmitted'], s=3)\n",
        "\n",
        "plt.show()"
      ],
      "execution_count": 0,
      "outputs": [
        {
          "output_type": "display_data",
          "data": {
            "image/png": "[encoded data removed]",
            "text/plain": [
              "<Figure size 432x288 with 1 Axes>"
            ]
          },
          "metadata": {
            "tags": []
          }
        }
      ]
    },
    {
      "cell_type": "code",
      "metadata": {
        "id": "58V7U01YQ8TJ",
        "colab_type": "code",
        "colab": {}
      },
      "source": [
        ""
      ],
      "execution_count": 0,
      "outputs": []
    },
    {
      "cell_type": "code",
      "metadata": {
        "id": "gEvocof0DfGz",
        "colab_type": "code",
        "colab": {}
      },
      "source": [
        "data=data.replace(to_replace=\"No\",value=0)\n",
        "data=data.replace(to_replace=\"Yes\",value=1)\n",
        "data=data.replace(to_replace=\"Ch\",value=1)\n",
        "data=data.replace(to_replace=\"None\",value=0)\n",
        "data=data.replace(to_replace=\"Steady\",value=1)\n",
        "data=data.replace(to_replace=\">0\",value=1)\n",
        "data=data.replace(to_replace=\"<0\",value=-1)\n",
        "data=data.replace(to_replace=\"Male\",value=0)\n",
        "data=data.replace(to_replace=\"Female\",value=1)\n",
        "data=data.replace(to_replace=\"Up\",value=2) #More insulin means more chances of readmission \n",
        "data=data.replace(to_replace=\"Down\",value=-2) #Less insulin means less chances of readmission\n",
        "# data=data.replace(to_replace=\"AfricanAmerican\",value=0)\n",
        "# data=data.replace(to_replace=\"Asian\",value=1)\n",
        "# data=data.replace(to_replace=\"Caucasian\",value=2)\n",
        "# data=data.replace(to_replace=\"Hispanic\",value=3)\n",
        "# data=data.replace(to_replace=\"Other\",value=4)\n",
        "# data=data.replace(to_replace=\"Discharged Home\",value=0)\n",
        "# data=data.replace(to_replace=\"Other discharge\",value=1)\n",
        "# data=data.replace(to_replace=\"Emergency Room\",value=2)\n",
        "# data=data.replace(to_replace=\"Others\",value=1)\n",
        "# data=data.replace(to_replace=\"physician/clinic referral\",value=2)\n",
        "# data=data.replace(to_replace=\"[0-40)\",value=0)\n",
        "# data=data.replace(to_replace=\"[40-50)\",value=1)\n",
        "# data=data.replace(to_replace=\"[50-60)\",value=2)\n",
        "# data=data.replace(to_replace=\"[60-70)\",value=3)\n",
        "# data=data.replace(to_replace=\"[70-80)\",value=4)\n",
        "# data=data.replace(to_replace=\"[80-90)\",value=5)\n",
        "# data=data.replace(to_replace=\"[90-100)\",value=6)\n",
        "data_race = pd.get_dummies(data['race'])\n",
        "data_age = pd.get_dummies(data['age'])\n",
        "data_discharge = pd.get_dummies(data['discharge_disposition_id'])\n",
        "data_admission = pd.get_dummies(data['admission_source_id'])\n",
        "data.drop(columns=['race','age','discharge_disposition_id','admission_source_id','diag_1','diag_2','diag_3'], inplace=True) #I dropped diag_1,2,3 for now, will see how to adjust its values\n",
        "data = pd.concat([data,data_race,data_age,data_discharge,data_admission],axis=1)\n",
        "# data.drop(columns=['diag_1','diag_2','diag_3'], inplace=True)\n",
        "#data.head()"
      ],
      "execution_count": 0,
      "outputs": []
    },
    {
      "cell_type": "code",
      "metadata": {
        "id": "KzqBUDqQTi6l",
        "colab_type": "code",
        "outputId": "70e88831-367b-4b12-c1ac-29b06ca609cc",
        "colab": {
          "base_uri": "https://localhost:8080/",
          "height": 1000
        }
      },
      "source": [
        "from sklearn import svm\n",
        "from sklearn.metrics import confusion_matrix, classification_report, accuracy_score\n",
        "import numpy as np\n",
        "\n",
        "y = data['readmitted']\n",
        "trainX = data.iloc[:100,:-1]\n",
        "trainY = y[:100]\n",
        "testX = data.iloc[100:150,:-1]\n",
        "testY = y[100:150]\n",
        "feature_folds = np.array_split(trainX,5)\n",
        "response_folds = np.array_split(trainY,5)\n",
        "bestAcc = -1\n",
        "bestFold = -1\n",
        "bestKernel = ''\n",
        "bestShape = ''\n",
        "for count in range(5):\n",
        "    test_feature_data = feature_folds[count]\n",
        "    test_response_data = response_folds[count]\n",
        "    check = 0\n",
        "    if count==0:\n",
        "        train_feature_data = feature_folds[1]\n",
        "        train_response_data = response_folds[1]\n",
        "        check = 1\n",
        "    else:\n",
        "        train_feature_data = feature_folds[0]\n",
        "        train_response_data = response_folds[0]\n",
        "    for k in range(5):\n",
        "        if k!=count and k!=check:\n",
        "            train_feature_data = np.concatenate((train_feature_data,feature_folds[k]),axis=0)\n",
        "            train_response_data = np.concatenate((train_response_data,response_folds[k]),axis=0)\n",
        "            \n",
        "    model = svm.SVC(kernel='rbf',gamma='auto', decision_function_shape='ovr')\n",
        "    model = model.fit(train_feature_data, train_response_data)\n",
        "    cm = confusion_matrix(test_response_data,model.predict(test_feature_data))\n",
        "    cr = classification_report(test_response_data,model.predict(test_feature_data),target_names=['Not Readmitted', 'Readmitted'])\n",
        "    acScore = accuracy_score(test_response_data,model.predict(test_feature_data))\n",
        "    if(acScore>bestAcc):\n",
        "        bestAcc = acScore\n",
        "        bestFold = count+1\n",
        "        bestKernel = 'rbf'\n",
        "        bestShape = 'ovr'\n",
        "    print()\n",
        "    print(\"Confusion Matrix for rbf kernel -------->\")\n",
        "    print()\n",
        "    print(cm)\n",
        "    print()\n",
        "    print(\"Classification Report for rbf kernel -------->\")\n",
        "    print()\n",
        "    print(cr)\n",
        "    print()\n",
        "    print(\"Accuracy Score for rbf kernel -------->\")\n",
        "    print()\n",
        "    print(acScore)\n",
        "    print()\n",
        "\n",
        "\n",
        "    model = svm.SVC(kernel='poly', degree=2, gamma='auto', decision_function_shape='ovr')\n",
        "    model = model.fit(train_feature_data, train_response_data)\n",
        "    cm = confusion_matrix(test_response_data,model.predict(test_feature_data))\n",
        "    cr = classification_report(test_response_data,model.predict(test_feature_data),target_names=['Not Readmitted', 'Readmitted'])\n",
        "    acScore = accuracy_score(test_response_data,model.predict(test_feature_data))\n",
        "    if(acScore>bestAcc):\n",
        "        bestAcc = acScore\n",
        "        bestFold = count+1\n",
        "        bestKernel = 'poly'\n",
        "        bestShape = 'ovr'\n",
        "    print()\n",
        "    print(\"Confusion Matrix for poly kernel -------->\")\n",
        "    print()\n",
        "    print(cm)\n",
        "    print()\n",
        "    print(\"Classification Report for poly kernel -------->\")\n",
        "    print()\n",
        "    print(cr)\n",
        "    print()\n",
        "    print(\"Accuracy Score for poly kernel -------->\")\n",
        "    print()\n",
        "    print(acScore)\n",
        "    print()\n",
        "   \n",
        "    model = svm.SVC(kernel='rbf',gamma='auto', decision_function_shape='ovo')\n",
        "    model = model.fit(train_feature_data, train_response_data)\n",
        "    cm = confusion_matrix(test_response_data,model.predict(test_feature_data))\n",
        "    cr = classification_report(test_response_data,model.predict(test_feature_data),target_names=['Not Readmitted', 'Readmitted'])\n",
        "    acScore = accuracy_score(test_response_data,model.predict(test_feature_data))\n",
        "    if(acScore>bestAcc):\n",
        "        bestAcc = acScore\n",
        "        bestFold = count+1\n",
        "        bestKernel = 'rbf'\n",
        "        bestShape = 'ovo'\n",
        "    print()\n",
        "    print(\"Confusion Matrix for rbf kernel -------->\")\n",
        "    print()\n",
        "    print(cm)\n",
        "    print()\n",
        "    print(\"Classification Report for rbf kernel -------->\")\n",
        "    print()\n",
        "    print(cr)\n",
        "    print()\n",
        "    print(\"Accuracy Score for rbf kernel -------->\")\n",
        "    print()\n",
        "    print(acScore)\n",
        "    print()\n",
        "\n",
        "\n",
        "    model = svm.SVC(kernel='poly', degree=2, gamma='auto', decision_function_shape='ovo')\n",
        "    model = model.fit(train_feature_data, train_response_data)\n",
        "    cm = confusion_matrix(test_response_data,model.predict(test_feature_data))\n",
        "    cr = classification_report(test_response_data,model.predict(test_feature_data),target_names=['Not Readmitted', 'Readmitted'])\n",
        "    acScore = accuracy_score(test_response_data,model.predict(test_feature_data))\n",
        "    if(acScore>bestAcc):\n",
        "        bestAcc = acScore\n",
        "        bestFold = count+1\n",
        "        bestKernel = 'poly'\n",
        "        bestShape = 'ovo'\n",
        "    print()\n",
        "    print(\"Confusion Matrix for poly kernel -------->\")\n",
        "    print()\n",
        "    print(cm)\n",
        "    print()\n",
        "    print(\"Classification Report for poly kernel -------->\")\n",
        "    print()\n",
        "    print(cr)\n",
        "    print()\n",
        "    print(\"Accuracy Score for poly kernel -------->\")\n",
        "    print()\n",
        "    print(acScore)\n",
        "    print()\n",
        "    print()\n",
        "\n",
        "\n",
        "\n",
        "print(\"Best Accuracy Obtained : \"+str(bestAcc))\n",
        "print(\"Best Fold  : \"+str(bestFold))\n",
        "print(\"Best Kernel  : \"+str(bestKernel))\n",
        "print(\"Best Decision Function Shape : \"+str(bestShape))\n",
        "print()\n",
        "\n",
        "\n",
        "print('<--------------------------------------------WORKING ON TEST SET NOW-------------------------------------------->')\n",
        "\n",
        "if bestKernel == 'poly':\n",
        "    model = svm.SVC(kernel='poly',degree=2,gamma='auto',decision_function_shape=bestShape)\n",
        "    model = model.fit(trainX, trainY)\n",
        "    cm = confusion_matrix(testY,model.predict(testX))\n",
        "    cr = classification_report(testY,model.predict(testX),target_names=['Not Readmitted', 'Readmitted'])\n",
        "    acScore = accuracy_score(testY,model.predict(testX))\n",
        "    print()\n",
        "    print(\"Confusion Matrix for poly kernel on Test Data -------->\")\n",
        "    print()\n",
        "    print(cm)\n",
        "    print()\n",
        "    print(\"Classification Report for poly kernel on Test Data -------->\")\n",
        "    print()\n",
        "    print(cr)\n",
        "    print()\n",
        "    print(\"Accuracy Score for poly kernel on Test Data -------->\")\n",
        "    print()\n",
        "    print(acScore)\n",
        "    print()\n",
        "\n",
        "else:\n",
        "    model = svm.SVC(kernel='rbf',gamma='auto', decision_function_shape=bestShape)\n",
        "    model = model.fit(trainX, trainY)\n",
        "    cm = confusion_matrix(testY,model.predict(testX))\n",
        "    cr = classification_report(testY,model.predict(testX),target_names=['Not Readmitted', 'Readmitted'])\n",
        "    acScore = accuracy_score(testY,model.predict(testX))\n",
        "   \n",
        "    print()\n",
        "    print(\"Confusion Matrix for rbf kernel on Test Data -------->\")\n",
        "    print()\n",
        "    print(cm)\n",
        "    print()\n",
        "    print(\"Classification Report for rbf kernel on Test Data-------->\")\n",
        "    print()\n",
        "    print(cr)\n",
        "    print()\n",
        "    print(\"Accuracy Score for rbf kernel on Test Data -------->\")\n",
        "    print()\n",
        "    print(acScore)\n",
        "    print()\n",
        "\n",
        "\n"
      ],
      "execution_count": 0,
      "outputs": [
        {
          "output_type": "stream",
          "text": [
            "\n",
            "Confusion Matrix for rbf kernel -------->\n",
            "\n",
            "[[3 8]\n",
            " [1 8]]\n",
            "\n",
            "Classification Report for rbf kernel -------->\n",
            "\n",
            "                precision    recall  f1-score   support\n",
            "\n",
            "Not Readmitted       0.75      0.27      0.40        11\n",
            "    Readmitted       0.50      0.89      0.64         9\n",
            "\n",
            "      accuracy                           0.55        20\n",
            "     macro avg       0.62      0.58      0.52        20\n",
            "  weighted avg       0.64      0.55      0.51        20\n",
            "\n",
            "\n",
            "Accuracy Score for rbf kernel -------->\n",
            "\n",
            "0.55\n",
            "\n",
            "\n",
            "Confusion Matrix for poly kernel -------->\n",
            "\n",
            "[[11  0]\n",
            " [ 1  8]]\n",
            "\n",
            "Classification Report for poly kernel -------->\n",
            "\n",
            "                precision    recall  f1-score   support\n",
            "\n",
            "Not Readmitted       0.92      1.00      0.96        11\n",
            "    Readmitted       1.00      0.89      0.94         9\n",
            "\n",
            "      accuracy                           0.95        20\n",
            "     macro avg       0.96      0.94      0.95        20\n",
            "  weighted avg       0.95      0.95      0.95        20\n",
            "\n",
            "\n",
            "Accuracy Score for poly kernel -------->\n",
            "\n",
            "0.95\n",
            "\n",
            "\n",
            "Confusion Matrix for rbf kernel -------->\n",
            "\n",
            "[[3 8]\n",
            " [1 8]]\n",
            "\n",
            "Classification Report for rbf kernel -------->\n",
            "\n",
            "                precision    recall  f1-score   support\n",
            "\n",
            "Not Readmitted       0.75      0.27      0.40        11\n",
            "    Readmitted       0.50      0.89      0.64         9\n",
            "\n",
            "      accuracy                           0.55        20\n",
            "     macro avg       0.62      0.58      0.52        20\n",
            "  weighted avg       0.64      0.55      0.51        20\n",
            "\n",
            "\n",
            "Accuracy Score for rbf kernel -------->\n",
            "\n",
            "0.55\n",
            "\n",
            "\n",
            "Confusion Matrix for poly kernel -------->\n",
            "\n",
            "[[11  0]\n",
            " [ 1  8]]\n",
            "\n",
            "Classification Report for poly kernel -------->\n",
            "\n",
            "                precision    recall  f1-score   support\n",
            "\n",
            "Not Readmitted       0.92      1.00      0.96        11\n",
            "    Readmitted       1.00      0.89      0.94         9\n",
            "\n",
            "      accuracy                           0.95        20\n",
            "     macro avg       0.96      0.94      0.95        20\n",
            "  weighted avg       0.95      0.95      0.95        20\n",
            "\n",
            "\n",
            "Accuracy Score for poly kernel -------->\n",
            "\n",
            "0.95\n",
            "\n",
            "\n",
            "\n",
            "Confusion Matrix for rbf kernel -------->\n",
            "\n",
            "[[ 2  5]\n",
            " [ 2 11]]\n",
            "\n",
            "Classification Report for rbf kernel -------->\n",
            "\n",
            "                precision    recall  f1-score   support\n",
            "\n",
            "Not Readmitted       0.50      0.29      0.36         7\n",
            "    Readmitted       0.69      0.85      0.76        13\n",
            "\n",
            "      accuracy                           0.65        20\n",
            "     macro avg       0.59      0.57      0.56        20\n",
            "  weighted avg       0.62      0.65      0.62        20\n",
            "\n",
            "\n",
            "Accuracy Score for rbf kernel -------->\n",
            "\n",
            "0.65\n",
            "\n",
            "\n",
            "Confusion Matrix for poly kernel -------->\n",
            "\n",
            "[[ 7  0]\n",
            " [ 0 13]]\n",
            "\n",
            "Classification Report for poly kernel -------->\n",
            "\n",
            "                precision    recall  f1-score   support\n",
            "\n",
            "Not Readmitted       1.00      1.00      1.00         7\n",
            "    Readmitted       1.00      1.00      1.00        13\n",
            "\n",
            "      accuracy                           1.00        20\n",
            "     macro avg       1.00      1.00      1.00        20\n",
            "  weighted avg       1.00      1.00      1.00        20\n",
            "\n",
            "\n",
            "Accuracy Score for poly kernel -------->\n",
            "\n",
            "1.0\n",
            "\n",
            "\n",
            "Confusion Matrix for rbf kernel -------->\n",
            "\n",
            "[[ 2  5]\n",
            " [ 2 11]]\n",
            "\n",
            "Classification Report for rbf kernel -------->\n",
            "\n",
            "                precision    recall  f1-score   support\n",
            "\n",
            "Not Readmitted       0.50      0.29      0.36         7\n",
            "    Readmitted       0.69      0.85      0.76        13\n",
            "\n",
            "      accuracy                           0.65        20\n",
            "     macro avg       0.59      0.57      0.56        20\n",
            "  weighted avg       0.62      0.65      0.62        20\n",
            "\n",
            "\n",
            "Accuracy Score for rbf kernel -------->\n",
            "\n",
            "0.65\n",
            "\n",
            "\n",
            "Confusion Matrix for poly kernel -------->\n",
            "\n",
            "[[ 7  0]\n",
            " [ 0 13]]\n",
            "\n",
            "Classification Report for poly kernel -------->\n",
            "\n",
            "                precision    recall  f1-score   support\n",
            "\n",
            "Not Readmitted       1.00      1.00      1.00         7\n",
            "    Readmitted       1.00      1.00      1.00        13\n",
            "\n",
            "      accuracy                           1.00        20\n",
            "     macro avg       1.00      1.00      1.00        20\n",
            "  weighted avg       1.00      1.00      1.00        20\n",
            "\n",
            "\n",
            "Accuracy Score for poly kernel -------->\n",
            "\n",
            "1.0\n",
            "\n",
            "\n",
            "\n",
            "Confusion Matrix for rbf kernel -------->\n",
            "\n",
            "[[ 3  6]\n",
            " [ 0 11]]\n",
            "\n",
            "Classification Report for rbf kernel -------->\n",
            "\n",
            "                precision    recall  f1-score   support\n",
            "\n",
            "Not Readmitted       1.00      0.33      0.50         9\n",
            "    Readmitted       0.65      1.00      0.79        11\n",
            "\n",
            "      accuracy                           0.70        20\n",
            "     macro avg       0.82      0.67      0.64        20\n",
            "  weighted avg       0.81      0.70      0.66        20\n",
            "\n",
            "\n",
            "Accuracy Score for rbf kernel -------->\n",
            "\n",
            "0.7\n",
            "\n",
            "\n",
            "Confusion Matrix for poly kernel -------->\n",
            "\n",
            "[[ 9  0]\n",
            " [ 0 11]]\n",
            "\n",
            "Classification Report for poly kernel -------->\n",
            "\n",
            "                precision    recall  f1-score   support\n",
            "\n",
            "Not Readmitted       1.00      1.00      1.00         9\n",
            "    Readmitted       1.00      1.00      1.00        11\n",
            "\n",
            "      accuracy                           1.00        20\n",
            "     macro avg       1.00      1.00      1.00        20\n",
            "  weighted avg       1.00      1.00      1.00        20\n",
            "\n",
            "\n",
            "Accuracy Score for poly kernel -------->\n",
            "\n",
            "1.0\n",
            "\n",
            "\n",
            "Confusion Matrix for rbf kernel -------->\n",
            "\n",
            "[[ 3  6]\n",
            " [ 0 11]]\n",
            "\n",
            "Classification Report for rbf kernel -------->\n",
            "\n",
            "                precision    recall  f1-score   support\n",
            "\n",
            "Not Readmitted       1.00      0.33      0.50         9\n",
            "    Readmitted       0.65      1.00      0.79        11\n",
            "\n",
            "      accuracy                           0.70        20\n",
            "     macro avg       0.82      0.67      0.64        20\n",
            "  weighted avg       0.81      0.70      0.66        20\n",
            "\n",
            "\n",
            "Accuracy Score for rbf kernel -------->\n",
            "\n",
            "0.7\n",
            "\n",
            "\n",
            "Confusion Matrix for poly kernel -------->\n",
            "\n",
            "[[ 9  0]\n",
            " [ 0 11]]\n",
            "\n",
            "Classification Report for poly kernel -------->\n",
            "\n",
            "                precision    recall  f1-score   support\n",
            "\n",
            "Not Readmitted       1.00      1.00      1.00         9\n",
            "    Readmitted       1.00      1.00      1.00        11\n",
            "\n",
            "      accuracy                           1.00        20\n",
            "     macro avg       1.00      1.00      1.00        20\n",
            "  weighted avg       1.00      1.00      1.00        20\n",
            "\n",
            "\n",
            "Accuracy Score for poly kernel -------->\n",
            "\n",
            "1.0\n",
            "\n",
            "\n",
            "\n",
            "Confusion Matrix for rbf kernel -------->\n",
            "\n",
            "[[ 2  6]\n",
            " [ 2 10]]\n",
            "\n",
            "Classification Report for rbf kernel -------->\n",
            "\n",
            "                precision    recall  f1-score   support\n",
            "\n",
            "Not Readmitted       0.50      0.25      0.33         8\n",
            "    Readmitted       0.62      0.83      0.71        12\n",
            "\n",
            "      accuracy                           0.60        20\n",
            "     macro avg       0.56      0.54      0.52        20\n",
            "  weighted avg       0.57      0.60      0.56        20\n",
            "\n",
            "\n",
            "Accuracy Score for rbf kernel -------->\n",
            "\n",
            "0.6\n",
            "\n",
            "\n",
            "Confusion Matrix for poly kernel -------->\n",
            "\n",
            "[[ 8  0]\n",
            " [ 0 12]]\n",
            "\n",
            "Classification Report for poly kernel -------->\n",
            "\n",
            "                precision    recall  f1-score   support\n",
            "\n",
            "Not Readmitted       1.00      1.00      1.00         8\n",
            "    Readmitted       1.00      1.00      1.00        12\n",
            "\n",
            "      accuracy                           1.00        20\n",
            "     macro avg       1.00      1.00      1.00        20\n",
            "  weighted avg       1.00      1.00      1.00        20\n",
            "\n",
            "\n",
            "Accuracy Score for poly kernel -------->\n",
            "\n",
            "1.0\n",
            "\n",
            "\n",
            "Confusion Matrix for rbf kernel -------->\n",
            "\n",
            "[[ 2  6]\n",
            " [ 2 10]]\n",
            "\n",
            "Classification Report for rbf kernel -------->\n",
            "\n",
            "                precision    recall  f1-score   support\n",
            "\n",
            "Not Readmitted       0.50      0.25      0.33         8\n",
            "    Readmitted       0.62      0.83      0.71        12\n",
            "\n",
            "      accuracy                           0.60        20\n",
            "     macro avg       0.56      0.54      0.52        20\n",
            "  weighted avg       0.57      0.60      0.56        20\n",
            "\n",
            "\n",
            "Accuracy Score for rbf kernel -------->\n",
            "\n",
            "0.6\n",
            "\n",
            "\n",
            "Confusion Matrix for poly kernel -------->\n",
            "\n",
            "[[ 8  0]\n",
            " [ 0 12]]\n",
            "\n",
            "Classification Report for poly kernel -------->\n",
            "\n",
            "                precision    recall  f1-score   support\n",
            "\n",
            "Not Readmitted       1.00      1.00      1.00         8\n",
            "    Readmitted       1.00      1.00      1.00        12\n",
            "\n",
            "      accuracy                           1.00        20\n",
            "     macro avg       1.00      1.00      1.00        20\n",
            "  weighted avg       1.00      1.00      1.00        20\n",
            "\n",
            "\n",
            "Accuracy Score for poly kernel -------->\n",
            "\n",
            "1.0\n",
            "\n",
            "\n",
            "\n",
            "Confusion Matrix for rbf kernel -------->\n",
            "\n",
            "[[5 3]\n",
            " [7 5]]\n",
            "\n",
            "Classification Report for rbf kernel -------->\n",
            "\n",
            "                precision    recall  f1-score   support\n",
            "\n",
            "Not Readmitted       0.42      0.62      0.50         8\n",
            "    Readmitted       0.62      0.42      0.50        12\n",
            "\n",
            "      accuracy                           0.50        20\n",
            "     macro avg       0.52      0.52      0.50        20\n",
            "  weighted avg       0.54      0.50      0.50        20\n",
            "\n",
            "\n",
            "Accuracy Score for rbf kernel -------->\n",
            "\n",
            "0.5\n",
            "\n",
            "\n",
            "Confusion Matrix for poly kernel -------->\n",
            "\n",
            "[[ 8  0]\n",
            " [ 0 12]]\n",
            "\n",
            "Classification Report for poly kernel -------->\n",
            "\n",
            "                precision    recall  f1-score   support\n",
            "\n",
            "Not Readmitted       1.00      1.00      1.00         8\n",
            "    Readmitted       1.00      1.00      1.00        12\n",
            "\n",
            "      accuracy                           1.00        20\n",
            "     macro avg       1.00      1.00      1.00        20\n",
            "  weighted avg       1.00      1.00      1.00        20\n",
            "\n",
            "\n",
            "Accuracy Score for poly kernel -------->\n",
            "\n",
            "1.0\n",
            "\n",
            "\n",
            "Confusion Matrix for rbf kernel -------->\n",
            "\n",
            "[[5 3]\n",
            " [7 5]]\n",
            "\n",
            "Classification Report for rbf kernel -------->\n",
            "\n",
            "                precision    recall  f1-score   support\n",
            "\n",
            "Not Readmitted       0.42      0.62      0.50         8\n",
            "    Readmitted       0.62      0.42      0.50        12\n",
            "\n",
            "      accuracy                           0.50        20\n",
            "     macro avg       0.52      0.52      0.50        20\n",
            "  weighted avg       0.54      0.50      0.50        20\n",
            "\n",
            "\n",
            "Accuracy Score for rbf kernel -------->\n",
            "\n",
            "0.5\n",
            "\n",
            "\n",
            "Confusion Matrix for poly kernel -------->\n",
            "\n",
            "[[ 8  0]\n",
            " [ 0 12]]\n",
            "\n",
            "Classification Report for poly kernel -------->\n",
            "\n",
            "                precision    recall  f1-score   support\n",
            "\n",
            "Not Readmitted       1.00      1.00      1.00         8\n",
            "    Readmitted       1.00      1.00      1.00        12\n",
            "\n",
            "      accuracy                           1.00        20\n",
            "     macro avg       1.00      1.00      1.00        20\n",
            "  weighted avg       1.00      1.00      1.00        20\n",
            "\n",
            "\n",
            "Accuracy Score for poly kernel -------->\n",
            "\n",
            "1.0\n",
            "\n",
            "\n",
            "Best Accuracy Obtained : 1.0\n",
            "Best Fold  : 2\n",
            "Best Kernel  : poly\n",
            "Best Decision Function Shape : ovr\n",
            "\n",
            "<--------------------------------------------WORKING ON TEST SET NOW-------------------------------------------->\n",
            "\n",
            "Confusion Matrix for poly kernel on Test Data -------->\n",
            "\n",
            "[[24  0]\n",
            " [15 11]]\n",
            "\n",
            "Classification Report for poly kernel on Test Data -------->\n",
            "\n",
            "                precision    recall  f1-score   support\n",
            "\n",
            "Not Readmitted       0.62      1.00      0.76        24\n",
            "    Readmitted       1.00      0.42      0.59        26\n",
            "\n",
            "      accuracy                           0.70        50\n",
            "     macro avg       0.81      0.71      0.68        50\n",
            "  weighted avg       0.82      0.70      0.67        50\n",
            "\n",
            "\n",
            "Accuracy Score for poly kernel on Test Data -------->\n",
            "\n",
            "0.7\n",
            "\n"
          ],
          "name": "stdout"
        }
      ]
    },
    {
      "cell_type": "code",
      "metadata": {
        "id": "1nZ7HIOW6Gs1",
        "colab_type": "code",
        "outputId": "f64c3b29-37c7-48b2-cf06-300b8adedab2",
        "colab": {
          "base_uri": "https://localhost:8080/",
          "height": 118
        }
      },
      "source": [
        "from sklearn.model_selection import train_test_split\n",
        "from sklearn import linear_model as lr\n",
        "from sklearn import metrics\n",
        "\n",
        "output_y=data.iloc[:,data.columns=='readmitted']\n",
        "input_x=data.iloc[:,data.columns!='readmitted']\n",
        "x_train,x_test,y_train,y_test=train_test_split(input_x,output_y,test_size=0.2)\n",
        "y_train = y_train.values.ravel()\n",
        "LRresult=lr.LogisticRegression(solver='liblinear').fit(x_train,y_train)\n",
        "# print(\"working\")\n",
        "model = LRresult.predict(x_test)\n",
        "print(\"Accuracy Score - \",end=\"\")\n",
        "print(metrics.accuracy_score(y_test,model))\n",
        "print(\"Confusion matrix - \", end=\"\")\n",
        "print(metrics.confusion_matrix(y_test,model))\n",
        "print(\"Recall score - \", end=\"\")\n",
        "print(metrics.recall_score(y_test,model))\n",
        "print(\"Precision score - \", end=\"\")\n",
        "print(metrics.precision_score(y_test,model))\n",
        "print()\n",
        "\n"
      ],
      "execution_count": 0,
      "outputs": [
        {
          "output_type": "stream",
          "text": [
            "Accuracy Score - 0.6212875018845168\n",
            "Confusion matrix - [[7918 2825]\n",
            " [4711 4445]]\n",
            "Recall score - 0.48547400611620795\n",
            "Precision score - 0.6114167812929848\n",
            "\n"
          ],
          "name": "stdout"
        }
      ]
    },
    {
      "cell_type": "code",
      "metadata": {
        "id": "mMdLGCaAOJee",
        "colab_type": "code",
        "outputId": "1b0e3aff-2f3e-4211-dce8-f0bdd63e2ccf",
        "colab": {
          "base_uri": "https://localhost:8080/",
          "height": 188
        }
      },
      "source": [
        "from sklearn.ensemble import RandomForestClassifier\n",
        "random_forest = RandomForestClassifier(n_estimators=1000, random_state=50)\n",
        "random_forest.fit(x_train, y_train)"
      ],
      "execution_count": 0,
      "outputs": [
        {
          "output_type": "stream",
          "text": [
            "/usr/local/lib/python3.6/dist-packages/ipykernel_launcher.py:3: DataConversionWarning: A column-vector y was passed when a 1d array was expected. Please change the shape of y to (n_samples,), for example using ravel().\n",
            "  This is separate from the ipykernel package so we can avoid doing imports until\n"
          ],
          "name": "stderr"
        },
        {
          "output_type": "execute_result",
          "data": {
            "text/plain": [
              "RandomForestClassifier(bootstrap=True, class_weight=None, criterion='gini',\n",
              "                       max_depth=None, max_features='auto', max_leaf_nodes=None,\n",
              "                       min_impurity_decrease=0.0, min_impurity_split=None,\n",
              "                       min_samples_leaf=1, min_samples_split=2,\n",
              "                       min_weight_fraction_leaf=0.0, n_estimators=1000,\n",
              "                       n_jobs=None, oob_score=False, random_state=50, verbose=0,\n",
              "                       warm_start=False)"
            ]
          },
          "metadata": {
            "tags": []
          },
          "execution_count": 105
        }
      ]
    },
    {
      "cell_type": "code",
      "metadata": {
        "colab_type": "code",
        "outputId": "d4906276-c8be-46e4-ba81-ea403b84d3a4",
        "id": "cYQwJUEPM7x1",
        "colab": {
          "base_uri": "https://localhost:8080/",
          "height": 34
        }
      },
      "source": [
        "from sklearn.metrics import accuracy_score\n",
        "y_predict= random_forest.predict(x_test)\n",
        "accuracy_score(y_test, y_predict)\n"
      ],
      "execution_count": 0,
      "outputs": [
        {
          "output_type": "execute_result",
          "data": {
            "text/plain": [
              "0.615307301874466"
            ]
          },
          "metadata": {
            "tags": []
          },
          "execution_count": 106
        }
      ]
    },
    {
      "cell_type": "code",
      "metadata": {
        "id": "3QErgdiWO_Nh",
        "colab_type": "code",
        "outputId": "00bc707c-7ba7-4435-c9aa-4a1f1b2c34dd",
        "colab": {
          "base_uri": "https://localhost:8080/",
          "height": 588
        }
      },
      "source": [
        "importances = random_forest.feature_importances_\n",
        "feature_importance = importances / importances.max()\n",
        "sorted_features = np.argsort(feature_importance)\n",
        "feature_names = list(x_train.columns.values)\n",
        "feature_names_sorted = [feature_names[index] for index in sorted_features]\n",
        "feature_names_sorted.reverse()\n",
        "feature_names_sorted"
      ],
      "execution_count": 0,
      "outputs": [
        {
          "output_type": "execute_result",
          "data": {
            "text/plain": [
              "['num_lab_procedures',\n",
              " 'num_medications',\n",
              " 'time_in_hospital',\n",
              " 'number_diagnoses',\n",
              " 'num_procedures',\n",
              " 'insulin',\n",
              " 'admission_type_id',\n",
              " 'number_inpatient',\n",
              " 'gender',\n",
              " 'metformin',\n",
              " 'change',\n",
              " '[60-70)',\n",
              " '[70-80)',\n",
              " 'Caucasian',\n",
              " 'number_outpatient',\n",
              " '[50-60)',\n",
              " 'number_emergency',\n",
              " '[80-90)',\n",
              " 'pioglitazone',\n",
              " 'AfricanAmerican',\n",
              " 'Other discharge',\n",
              " 'Discharged Home',\n",
              " 'rosiglitazone',\n",
              " 'glimepiride',\n",
              " '[40-50)',\n",
              " 'diabetesMed',\n",
              " 'Emergency Room',\n",
              " 'physician/clinic referral',\n",
              " '[0-40)',\n",
              " 'Others',\n",
              " '[90-100)',\n",
              " 'Hispanic',\n",
              " 'Other',\n",
              " 'Asian']"
            ]
          },
          "metadata": {
            "tags": []
          },
          "execution_count": 107
        }
      ]
    },
    {
      "cell_type": "markdown",
      "metadata": {
        "id": "14zJDKKHuT6_",
        "colab_type": "text"
      },
      "source": [
        ""
      ]
    },
    {
      "cell_type": "code",
      "metadata": {
        "id": "JtmqnKChASGV",
        "colab_type": "code",
        "colab": {}
      },
      "source": [
        "from sklearn.neural_network import MLPClassifier\n",
        "from sklearn.metrics import accuracy_score"
      ],
      "execution_count": 0,
      "outputs": []
    },
    {
      "cell_type": "code",
      "metadata": {
        "id": "qVSCzS9UBNfp",
        "colab_type": "code",
        "outputId": "e6053c98-2a20-4453-bcef-c697f303398c",
        "colab": {
          "base_uri": "https://localhost:8080/",
          "height": 136
        }
      },
      "source": [
        "c= MLPClassifier(activation='tanh',solver='sgd',hidden_layer_sizes=(256,128,64),learning_rate_init=0.1,alpha=0.001,batch_size=200,max_iter=100)\n",
        "c.fit(x_train,y_train)"
      ],
      "execution_count": 0,
      "outputs": [
        {
          "output_type": "execute_result",
          "data": {
            "text/plain": [
              "MLPClassifier(activation='tanh', alpha=0.001, batch_size=200, beta_1=0.9,\n",
              "              beta_2=0.999, early_stopping=False, epsilon=1e-08,\n",
              "              hidden_layer_sizes=(256, 128, 64), learning_rate='constant',\n",
              "              learning_rate_init=0.1, max_iter=100, momentum=0.9,\n",
              "              n_iter_no_change=10, nesterovs_momentum=True, power_t=0.5,\n",
              "              random_state=None, shuffle=True, solver='sgd', tol=0.0001,\n",
              "              validation_fraction=0.1, verbose=False, warm_start=False)"
            ]
          },
          "metadata": {
            "tags": []
          },
          "execution_count": 72
        }
      ]
    },
    {
      "cell_type": "code",
      "metadata": {
        "id": "EolM3f17Dk__",
        "colab_type": "code",
        "outputId": "a5766428-20e6-4250-cc07-0615b6e3f12f",
        "colab": {
          "base_uri": "https://localhost:8080/",
          "height": 34
        }
      },
      "source": [
        "predictions=c.predict(x_test)\n",
        "print(accuracy_score(predictions,y_test))"
      ],
      "execution_count": 0,
      "outputs": [
        {
          "output_type": "stream",
          "text": [
            "0.7590331172420725\n"
          ],
          "name": "stdout"
        }
      ]
    },
    {
      "cell_type": "code",
      "metadata": {
        "id": "umUrAHuBENjW",
        "colab_type": "code",
        "outputId": "fbe12c09-fcbe-4478-b722-9f45fae66feb",
        "colab": {
          "base_uri": "https://localhost:8080/",
          "height": 136
        }
      },
      "source": [
        "c1=MLPClassifier(activation='logistic',solver='sgd',hidden_layer_sizes=(256,128,64),learning_rate_init=0.1,alpha=0.001,batch_size=200,max_iter=100)\n",
        "c1.fit(x_train,y_train)\n"
      ],
      "execution_count": 0,
      "outputs": [
        {
          "output_type": "execute_result",
          "data": {
            "text/plain": [
              "MLPClassifier(activation='logistic', alpha=0.001, batch_size=200, beta_1=0.9,\n",
              "              beta_2=0.999, early_stopping=False, epsilon=1e-08,\n",
              "              hidden_layer_sizes=(256, 128, 64), learning_rate='constant',\n",
              "              learning_rate_init=0.1, max_iter=100, momentum=0.9,\n",
              "              n_iter_no_change=10, nesterovs_momentum=True, power_t=0.5,\n",
              "              random_state=None, shuffle=True, solver='sgd', tol=0.0001,\n",
              "              validation_fraction=0.1, verbose=False, warm_start=False)"
            ]
          },
          "metadata": {
            "tags": []
          },
          "execution_count": 76
        }
      ]
    },
    {
      "cell_type": "code",
      "metadata": {
        "id": "arX-LYtUGMnZ",
        "colab_type": "code",
        "outputId": "005e4889-185b-48f0-8a94-e0ede11ab7f4",
        "colab": {
          "base_uri": "https://localhost:8080/",
          "height": 34
        }
      },
      "source": [
        "predictions1=c1.predict(x_test)\n",
        "print(accuracy_score(predictions1,y_test))"
      ],
      "execution_count": 0,
      "outputs": [
        {
          "output_type": "stream",
          "text": [
            "0.8317503392130258\n"
          ],
          "name": "stdout"
        }
      ]
    },
    {
      "cell_type": "code",
      "metadata": {
        "id": "QajBtAugGscD",
        "colab_type": "code",
        "outputId": "127b1c95-cc58-4340-e0ef-f0daa30c8782",
        "colab": {
          "base_uri": "https://localhost:8080/",
          "height": 190
        }
      },
      "source": [
        "c2=MLPClassifier(activation='relu',solver='sgd',hidden_layer_sizes=(256,128,64),learning_rate_init=0.1,alpha=0.001,batch_size=200,max_iter=100)\n",
        "c2.fit(x_train,y_train)"
      ],
      "execution_count": 0,
      "outputs": [
        {
          "output_type": "stream",
          "text": [
            "/usr/local/lib/python3.6/dist-packages/sklearn/neural_network/multilayer_perceptron.py:566: ConvergenceWarning: Stochastic Optimizer: Maximum iterations (100) reached and the optimization hasn't converged yet.\n",
            "  % self.max_iter, ConvergenceWarning)\n"
          ],
          "name": "stderr"
        },
        {
          "output_type": "execute_result",
          "data": {
            "text/plain": [
              "MLPClassifier(activation='relu', alpha=0.001, batch_size=200, beta_1=0.9,\n",
              "              beta_2=0.999, early_stopping=False, epsilon=1e-08,\n",
              "              hidden_layer_sizes=(256, 128, 64), learning_rate='constant',\n",
              "              learning_rate_init=0.1, max_iter=100, momentum=0.9,\n",
              "              n_iter_no_change=10, nesterovs_momentum=True, power_t=0.5,\n",
              "              random_state=None, shuffle=True, solver='sgd', tol=0.0001,\n",
              "              validation_fraction=0.1, verbose=False, warm_start=False)"
            ]
          },
          "metadata": {
            "tags": []
          },
          "execution_count": 78
        }
      ]
    },
    {
      "cell_type": "code",
      "metadata": {
        "id": "7iUMbNHzIRaB",
        "colab_type": "code",
        "outputId": "ecfcbbe6-1239-4273-ccbe-a6bce34b5dde",
        "colab": {
          "base_uri": "https://localhost:8080/",
          "height": 34
        }
      },
      "source": [
        "predictions2=c2.predict(x_test)\n",
        "print(accuracy_score(predictions2,y_test))"
      ],
      "execution_count": 0,
      "outputs": [
        {
          "output_type": "stream",
          "text": [
            "0.7070707070707071\n"
          ],
          "name": "stdout"
        }
      ]
    },
    {
      "cell_type": "code",
      "metadata": {
        "id": "uq1JREfOIgB-",
        "colab_type": "code",
        "outputId": "a157c668-e769-4c46-f89d-28fd93c5ec9d",
        "colab": {
          "base_uri": "https://localhost:8080/",
          "height": 190
        }
      },
      "source": [
        "c3=MLPClassifier(activation='identity',solver='sgd',hidden_layer_sizes=(256,128,64),learning_rate_init=0.1,alpha=0.001,batch_size=200,max_iter=100)\n",
        "c3.fit(x_train,y_train)"
      ],
      "execution_count": 0,
      "outputs": [
        {
          "output_type": "stream",
          "text": [
            "/usr/local/lib/python3.6/dist-packages/sklearn/neural_network/multilayer_perceptron.py:566: ConvergenceWarning: Stochastic Optimizer: Maximum iterations (100) reached and the optimization hasn't converged yet.\n",
            "  % self.max_iter, ConvergenceWarning)\n"
          ],
          "name": "stderr"
        },
        {
          "output_type": "execute_result",
          "data": {
            "text/plain": [
              "MLPClassifier(activation='identity', alpha=0.001, batch_size=200, beta_1=0.9,\n",
              "              beta_2=0.999, early_stopping=False, epsilon=1e-08,\n",
              "              hidden_layer_sizes=(256, 128, 64), learning_rate='constant',\n",
              "              learning_rate_init=0.1, max_iter=100, momentum=0.9,\n",
              "              n_iter_no_change=10, nesterovs_momentum=True, power_t=0.5,\n",
              "              random_state=None, shuffle=True, solver='sgd', tol=0.0001,\n",
              "              validation_fraction=0.1, verbose=False, warm_start=False)"
            ]
          },
          "metadata": {
            "tags": []
          },
          "execution_count": 81
        }
      ]
    },
    {
      "cell_type": "code",
      "metadata": {
        "id": "KPI2_gG7J_Vs",
        "colab_type": "code",
        "outputId": "3a1ef00c-4e01-43a2-a11f-fd4ee55eab24",
        "colab": {
          "base_uri": "https://localhost:8080/",
          "height": 68
        }
      },
      "source": [
        "predictions3=c3.predict(x_test)\n",
        "print(accuracy_score(predictions3,y_test))"
      ],
      "execution_count": 0,
      "outputs": [
        {
          "output_type": "stream",
          "text": [
            "0.7070707070707071\n"
          ],
          "name": "stdout"
        },
        {
          "output_type": "stream",
          "text": [
            "/usr/local/lib/python3.6/dist-packages/sklearn/preprocessing/label.py:749: RuntimeWarning: invalid value encountered in greater\n",
            "  y = np.array(y > threshold, dtype=np.int)\n"
          ],
          "name": "stderr"
        }
      ]
    },
    {
      "cell_type": "code",
      "metadata": {
        "id": "h6d-_egJK0rx",
        "colab_type": "code",
        "outputId": "9737af9c-46da-48b2-e13d-41ef1782f0c9",
        "colab": {
          "base_uri": "https://localhost:8080/",
          "height": 136
        }
      },
      "source": [
        "# Changing the number of hidden layer.\n",
        "c4=MLPClassifier(activation='tanh',solver='sgd',hidden_layer_sizes=(512,256,128,64),learning_rate_init=0.1,alpha=0.001,batch_size=200,max_iter=100)\n",
        "c4.fit(x_train,y_train)\n"
      ],
      "execution_count": 0,
      "outputs": [
        {
          "output_type": "execute_result",
          "data": {
            "text/plain": [
              "MLPClassifier(activation='tanh', alpha=0.001, batch_size=200, beta_1=0.9,\n",
              "              beta_2=0.999, early_stopping=False, epsilon=1e-08,\n",
              "              hidden_layer_sizes=(512, 256, 128, 64), learning_rate='constant',\n",
              "              learning_rate_init=0.1, max_iter=100, momentum=0.9,\n",
              "              n_iter_no_change=10, nesterovs_momentum=True, power_t=0.5,\n",
              "              random_state=None, shuffle=True, solver='sgd', tol=0.0001,\n",
              "              validation_fraction=0.1, verbose=False, warm_start=False)"
            ]
          },
          "metadata": {
            "tags": []
          },
          "execution_count": 93
        }
      ]
    },
    {
      "cell_type": "code",
      "metadata": {
        "id": "cRu8J5CKMxov",
        "colab_type": "code",
        "outputId": "8a269d68-ebc3-4e8d-a714-38a7cff6c50e",
        "colab": {
          "base_uri": "https://localhost:8080/",
          "height": 34
        }
      },
      "source": [
        "predictions4=c4.predict(x_test)\n",
        "print(accuracy_score(predictions4,y_test))"
      ],
      "execution_count": 0,
      "outputs": [
        {
          "output_type": "stream",
          "text": [
            "0.7070707070707071\n"
          ],
          "name": "stdout"
        }
      ]
    },
    {
      "cell_type": "code",
      "metadata": {
        "id": "C0bzZwv5OYvx",
        "colab_type": "code",
        "outputId": "abd3c479-4606-46b2-e53d-fed5b4c1ccbd",
        "colab": {
          "base_uri": "https://localhost:8080/",
          "height": 136
        }
      },
      "source": [
        "c5=MLPClassifier(activation='logistic',solver='sgd',hidden_layer_sizes=(512,256,128,64),learning_rate_init=0.1,alpha=0.001,batch_size=200,max_iter=100)\n",
        "c5.fit(x_train,y_train)\n"
      ],
      "execution_count": 0,
      "outputs": [
        {
          "output_type": "execute_result",
          "data": {
            "text/plain": [
              "MLPClassifier(activation='logistic', alpha=0.001, batch_size=200, beta_1=0.9,\n",
              "              beta_2=0.999, early_stopping=False, epsilon=1e-08,\n",
              "              hidden_layer_sizes=(512, 256, 128, 64), learning_rate='constant',\n",
              "              learning_rate_init=0.1, max_iter=100, momentum=0.9,\n",
              "              n_iter_no_change=10, nesterovs_momentum=True, power_t=0.5,\n",
              "              random_state=None, shuffle=True, solver='sgd', tol=0.0001,\n",
              "              validation_fraction=0.1, verbose=False, warm_start=False)"
            ]
          },
          "metadata": {
            "tags": []
          },
          "execution_count": 96
        }
      ]
    },
    {
      "cell_type": "code",
      "metadata": {
        "id": "G0uOVvedQWFa",
        "colab_type": "code",
        "outputId": "ed13eea8-72e8-4bb0-f180-b7d648ef0076",
        "colab": {
          "base_uri": "https://localhost:8080/",
          "height": 34
        }
      },
      "source": [
        "predictions5=c5.predict(x_test)\n",
        "print(accuracy_score(predictions5,y_test))"
      ],
      "execution_count": 0,
      "outputs": [
        {
          "output_type": "stream",
          "text": [
            "0.7082265440474396\n"
          ],
          "name": "stdout"
        }
      ]
    },
    {
      "cell_type": "code",
      "metadata": {
        "id": "7YG2bPHsQlCn",
        "colab_type": "code",
        "colab": {}
      },
      "source": [
        "c6=MLPClassifier(activation='identity',solver='sgd',hidden_layer_sizes=(512,256,128,64),learning_rate_init=0.1,alpha=0.001,batch_size=200,max_iter=100)\n",
        "c6.fit(x_train,y_train)"
      ],
      "execution_count": 0,
      "outputs": []
    },
    {
      "cell_type": "code",
      "metadata": {
        "id": "549QcgyyTeVK",
        "colab_type": "code",
        "outputId": "a9f7d473-8b0c-47a1-de20-21e0eecff6b3",
        "colab": {
          "base_uri": "https://localhost:8080/",
          "height": 68
        }
      },
      "source": [
        "prediction6=c6.predict(x_test)\n",
        "print(accuracy_score(prediction6,y_test))"
      ],
      "execution_count": 0,
      "outputs": [
        {
          "output_type": "stream",
          "text": [
            "0.7070707070707071\n"
          ],
          "name": "stdout"
        },
        {
          "output_type": "stream",
          "text": [
            "/usr/local/lib/python3.6/dist-packages/sklearn/preprocessing/label.py:749: RuntimeWarning: invalid value encountered in greater\n",
            "  y = np.array(y > threshold, dtype=np.int)\n"
          ],
          "name": "stderr"
        }
      ]
    },
    {
      "cell_type": "code",
      "metadata": {
        "id": "be2Npcv7ITZO",
        "colab_type": "code",
        "outputId": "504e9b67-0016-4a10-87a4-f542e12dbaa0",
        "colab": {
          "base_uri": "https://localhost:8080/",
          "height": 437
        }
      },
      "source": [
        "from sklearn.neighbors import KNeighborsClassifier as knn\n",
        "bestAccuracy = -1\n",
        "for i in {5,50,100, 200}:\n",
        "  model = knn(n_neighbors = i)\n",
        "  model.fit(x_train, y_train)\n",
        "  print(\"Accuracy Score for \"+str(i)+\" neighbors - \", end=\"\")\n",
        "  acc = metrics.accuracy_score(y_test,model.predict(x_test))\n",
        "  if acc>bestAccuracy:\n",
        "    bestAccuracy = acc\n",
        "  print(acc)\n",
        "  print(\"Confusion matrix for \"+str(i)+\" neighbors - \", end=\"\")\n",
        "  print(metrics.confusion_matrix(y_test,model.predict(x_test)))\n",
        "  print(\"Recall score for \"+str(i)+\" neighbors - \", end=\"\")\n",
        "  print(metrics.recall_score(y_test,model.predict(x_test)))\n",
        "  print(\"Precision score for \"+str(i)+\" neighbors - \", end=\"\")\n",
        "  print(metrics.precision_score(y_test,model.predict(x_test)))\n",
        "  print()\n",
        "print(\"Best accuracy with KNN: \"+str(bestAccuracy))\n"
      ],
      "execution_count": 0,
      "outputs": [
        {
          "output_type": "stream",
          "text": [
            "Accuracy Score for 200 neighbors - 0.8205437459168803\n",
            "Confusion matrix for 200 neighbors - [[13408   643]\n",
            " [ 2928  2920]]\n",
            "Recall score for 200 neighbors - 0.4993160054719562\n",
            "Precision score for 200 neighbors - 0.819534100477126\n",
            "\n",
            "Accuracy Score for 50 neighbors - 0.8707472737323484\n",
            "Confusion matrix for 50 neighbors - [[13484   567]\n",
            " [ 2005  3843]]\n",
            "Recall score for 50 neighbors - 0.6571477428180574\n",
            "Precision score for 50 neighbors - 0.8714285714285714\n",
            "\n",
            "Accuracy Score for 100 neighbors - 0.8484345947032514\n",
            "Confusion matrix for 100 neighbors - [[13436   615]\n",
            " [ 2401  3447]]\n",
            "Recall score for 100 neighbors - 0.5894322845417237\n",
            "Precision score for 100 neighbors - 0.8485967503692762\n",
            "\n",
            "Accuracy Score for 5 neighbors - 0.9169304990200513\n",
            "Confusion matrix for 5 neighbors - [[13557   494]\n",
            " [ 1159  4689]]\n",
            "Recall score for 5 neighbors - 0.801812585499316\n",
            "Precision score for 5 neighbors - 0.9046884043989967\n",
            "\n",
            "Best accuracy with KNN: 0.9169304990200513\n"
          ],
          "name": "stdout"
        }
      ]
    },
    {
      "cell_type": "code",
      "metadata": {
        "id": "A2oefliTXSxl",
        "colab_type": "code",
        "colab": {}
      },
      "source": [
        "'''REFERENCES\n",
        "\n",
        "1. https://pandas.pydata.org/pandas-docs/stable/reference/api/pandas.get_dummies.html\n",
        "2. https://scikit-learn.org/stable/modules/generated/sklearn.svm.SVC.html\n",
        "3. https://scikit-learn.org/stable/modules/generated/sklearn.neighbors.KNeighborsClassifier.html\n",
        "4. https://scikit-learn.org/stable/modules/generated/sklearn.neural_network.MLPClassifier.html\n",
        "5. https://scikit-learn.org/stable/modules/generated/sklearn.linear_model.LogisticRegression.html\n",
        "6. https://scikit-learn.org/stable/modules/generated/sklearn.ensemble.RandomForestClassifier.html\n",
        "\n",
        "\n",
        "\n",
        "\n",
        "\n",
        "\n",
        "\n",
        "\n",
        "\n",
        "\n",
        "\n",
        "\n",
        "\n",
        "\n",
        "\n",
        "\n",
        "'''"
      ],
      "execution_count": 0,
      "outputs": []
    }
  ]
}